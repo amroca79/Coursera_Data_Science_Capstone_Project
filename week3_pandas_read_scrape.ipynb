{
 "metadata": {
  "language_info": {
   "codemirror_mode": {
    "name": "ipython",
    "version": 3
   },
   "file_extension": ".py",
   "mimetype": "text/x-python",
   "name": "python",
   "nbconvert_exporter": "python",
   "pygments_lexer": "ipython3",
   "version": "3.8.5-final"
  },
  "orig_nbformat": 2,
  "kernelspec": {
   "name": "python3",
   "display_name": "Python 3.8.5 64-bit (conda)",
   "metadata": {
    "interpreter": {
     "hash": "6a6288ef1e1a0fdecabe4c9402be39534ed7861d4ab8eb835b55487e780ea4c3"
    }
   }
  }
 },
 "nbformat": 4,
 "nbformat_minor": 2,
 "cells": [
  {
   "source": [
    "### The cell below I'll be importing the libraries needed for this notebook:"
   ],
   "cell_type": "markdown",
   "metadata": {}
  },
  {
   "cell_type": "code",
   "execution_count": 106,
   "metadata": {},
   "outputs": [],
   "source": [
    "import pandas as pd \n",
    "import numpy as np\n",
    "\n",
    "pd.set_option('display.max_rows', None)\n",
    "pd.set_option('display.max_columns', None)"
   ]
  },
  {
   "source": [
    "### Using pandas.read to read Wikipedia html link to Toronto Postal Code table and adding to variable 'toronto_wiki_df'."
   ],
   "cell_type": "markdown",
   "metadata": {}
  },
  {
   "cell_type": "code",
   "execution_count": 107,
   "metadata": {},
   "outputs": [],
   "source": [
    "toronto_wiki_df = pd.read_html('https://en.wikipedia.org/wiki/List_of_postal_codes_of_Canada:_M')"
   ]
  },
  {
   "source": [
    "### Using the function len() to retrieve the number of tables downloaded."
   ],
   "cell_type": "markdown",
   "metadata": {}
  },
  {
   "cell_type": "code",
   "execution_count": 108,
   "metadata": {},
   "outputs": [
    {
     "output_type": "stream",
     "name": "stdout",
     "text": [
      "Total tables: 3\n"
     ]
    }
   ],
   "source": [
    "print('Total tables:', len(toronto_wiki_df))"
   ]
  },
  {
   "source": [
    "### Saving only the 1st table which is located in the index[0] into the variable 'toronto_wiki_df'...  'Eew!'"
   ],
   "cell_type": "markdown",
   "metadata": {}
  },
  {
   "cell_type": "code",
   "execution_count": 109,
   "metadata": {},
   "outputs": [
    {
     "output_type": "execute_result",
     "data": {
      "text/plain": [
       "                                                    0  \\\n",
       "0                                     M1ANot assigned   \n",
       "1                     M1BScarborough(Malvern / Rouge)   \n",
       "2   M1CScarborough(Rouge Hill / Port Union / Highl...   \n",
       "3   M1EScarborough(Guildwood / Morningside / West ...   \n",
       "4                              M1GScarborough(Woburn)   \n",
       "5                           M1HScarborough(Cedarbrae)   \n",
       "6                 M1JScarborough(Scarborough Village)   \n",
       "7   M1KScarborough(Kennedy Park / Ionview / East B...   \n",
       "8   M1LScarborough(Golden Mile / Clairlea / Oakridge)   \n",
       "9   M1MScarborough(Cliffside / Cliffcrest / Scarbo...   \n",
       "10       M1NScarborough(Birch Cliff / Cliffside West)   \n",
       "11  M1PScarborough(Dorset Park / Wexford Heights /...   \n",
       "12                 M1RScarborough(Wexford / Maryvale)   \n",
       "13                          M1SScarborough(Agincourt)   \n",
       "14  M1TScarborough(Clarks Corners / Tam O'Shanter ...   \n",
       "15  M1VScarborough(Milliken / Agincourt North / St...   \n",
       "16     M1WScarborough(Steeles West / L'Amoreaux West)   \n",
       "17                        M1XScarborough(Upper Rouge)   \n",
       "18                                    M1YNot assigned   \n",
       "19                                    M1ZNot assigned   \n",
       "\n",
       "                                                1  \\\n",
       "0                                 M2ANot assigned   \n",
       "1                                 M2BNot assigned   \n",
       "2                                 M2CNot assigned   \n",
       "3                                 M2ENot assigned   \n",
       "4                                 M2GNot assigned   \n",
       "5                M2HNorth York(Hillcrest Village)   \n",
       "6   M2JNorth York(Fairview / Henry Farm / Oriole)   \n",
       "7                  M2KNorth York(Bayview Village)   \n",
       "8        M2LNorth York(York Mills / Silver Hills)   \n",
       "9         M2MNorth York(Willowdale / Newtonbrook)   \n",
       "10                 M2NNorth York(Willowdale)South   \n",
       "11                 M2PNorth York(York Mills West)   \n",
       "12                  M2RNorth York(Willowdale)West   \n",
       "13                                M2SNot assigned   \n",
       "14                                M2TNot assigned   \n",
       "15                                M2VNot assigned   \n",
       "16                                M2WNot assigned   \n",
       "17                                M2XNot assigned   \n",
       "18                                M2YNot assigned   \n",
       "19                                M2ZNot assigned   \n",
       "\n",
       "                                                    2  \\\n",
       "0                            M3ANorth York(Parkwoods)   \n",
       "1                       M3BNorth York(Don Mills)North   \n",
       "2      M3CNorth York(Don Mills)South(Flemingdon Park)   \n",
       "3                                     M3ENot assigned   \n",
       "4                                     M3GNot assigned   \n",
       "5   M3HNorth York(Bathurst Manor / Wilson Heights ...   \n",
       "6     M3JNorth York(Northwood Park / York University)   \n",
       "7          M3KNorth York(Downsview)East (CFB Toronto)   \n",
       "8                        M3LNorth York(Downsview)West   \n",
       "9                     M3MNorth York(Downsview)Central   \n",
       "10                  M3NNorth York(Downsview)Northwest   \n",
       "11                                    M3PNot assigned   \n",
       "12                                    M3RNot assigned   \n",
       "13                                    M3SNot assigned   \n",
       "14                                    M3TNot assigned   \n",
       "15                                    M3VNot assigned   \n",
       "16                                    M3WNot assigned   \n",
       "17                                    M3XNot assigned   \n",
       "18                                    M3YNot assigned   \n",
       "19                                    M3ZNot assigned   \n",
       "\n",
       "                                                    3  \\\n",
       "0                     M4ANorth York(Victoria Village)   \n",
       "1      M4BEast York(Parkview Hill / Woodbine Gardens)   \n",
       "2                      M4CEast York(Woodbine Heights)   \n",
       "3                        M4EEast Toronto(The Beaches)   \n",
       "4                               M4GEast York(Leaside)   \n",
       "5                      M4HEast York(Thorncliffe Park)   \n",
       "6         M4JEast YorkEast Toronto(The Danforth East)   \n",
       "7      M4KEast Toronto(The Danforth West / Riverdale)   \n",
       "8    M4LEast Toronto(India Bazaar / The Beaches West)   \n",
       "9                    M4MEast Toronto(Studio District)   \n",
       "10                  M4NCentral Toronto(Lawrence Park)   \n",
       "11               M4PCentral Toronto(Davisville North)   \n",
       "12             M4RCentral Toronto(North Toronto West)   \n",
       "13                     M4SCentral Toronto(Davisville)   \n",
       "14   M4TCentral Toronto(Moore Park / Summerhill East)   \n",
       "15  M4VCentral Toronto(Summerhill West / Rathnelly...   \n",
       "16                      M4WDowntown Toronto(Rosedale)   \n",
       "17  M4XDowntown Toronto(St. James Town / Cabbagetown)   \n",
       "18          M4YDowntown Toronto(Church and Wellesley)   \n",
       "19                                    M4ZNot assigned   \n",
       "\n",
       "                                                    4  \\\n",
       "0     M5ADowntown Toronto(Regent Park / Harbourfront)   \n",
       "1       M5BDowntown Toronto(Garden District, Ryerson)   \n",
       "2                 M5CDowntown Toronto(St. James Town)   \n",
       "3                    M5EDowntown Toronto(Berczy Park)   \n",
       "4             M5GDowntown Toronto(Central Bay Street)   \n",
       "5     M5HDowntown Toronto(Richmond / Adelaide / King)   \n",
       "6   M5JDowntown Toronto(Harbourfront East / Union ...   \n",
       "7   M5KDowntown Toronto(Toronto Dominion Centre / ...   \n",
       "8   M5LDowntown Toronto(Commerce Court / Victoria ...   \n",
       "9   M5MNorth York(Bedford Park / Lawrence Manor East)   \n",
       "10                       M5NCentral Toronto(Roselawn)   \n",
       "11       M5PCentral Toronto(Forest Hill North & West)   \n",
       "12  M5RCentral Toronto(The Annex / North Midtown /...   \n",
       "13  M5SDowntown Toronto(University of Toronto / Ha...   \n",
       "14  M5TDowntown Toronto(Kensington Market / Chinat...   \n",
       "15  M5VDowntown Toronto(CN Tower / King and Spadin...   \n",
       "16  M5WDowntown TorontoStn A PO Boxes25 The Esplan...   \n",
       "17  M5XDowntown Toronto(First Canadian Place / Und...   \n",
       "18                                    M5YNot assigned   \n",
       "19                                    M5ZNot assigned   \n",
       "\n",
       "                                                    5  \\\n",
       "0    M6ANorth York(Lawrence Manor / Lawrence Heights)   \n",
       "1                            M6BNorth York(Glencairn)   \n",
       "2                         M6CYork(Humewood-Cedarvale)   \n",
       "3                        M6EYork(Caledonia-Fairbanks)   \n",
       "4                       M6GDowntown Toronto(Christie)   \n",
       "5      M6HWest Toronto(Dufferin / Dovercourt Village)   \n",
       "6          M6JWest Toronto(Little Portugal / Trinity)   \n",
       "7   M6KWest Toronto(Brockton / Parkdale Village / ...   \n",
       "8   M6LNorth York(North Park / Maple Leaf Park / U...   \n",
       "9   M6MYork(Del Ray / Mount Dennis / Keelsdale and...   \n",
       "10            M6NYork(Runnymede / The Junction North)   \n",
       "11    M6PWest Toronto(High Park / The Junction South)   \n",
       "12           M6RWest Toronto(Parkdale / Roncesvalles)   \n",
       "13               M6SWest Toronto(Runnymede / Swansea)   \n",
       "14                                    M6TNot assigned   \n",
       "15                                    M6VNot assigned   \n",
       "16                                    M6WNot assigned   \n",
       "17                                    M6XNot assigned   \n",
       "18                                    M6YNot assigned   \n",
       "19                                    M6ZNot assigned   \n",
       "\n",
       "                                                    6  \\\n",
       "0      M7AQueen's Park(Ontario Provincial Government)   \n",
       "1                                     M7BNot assigned   \n",
       "2                                     M7CNot assigned   \n",
       "3                                     M7ENot assigned   \n",
       "4                                     M7GNot assigned   \n",
       "5                                     M7HNot assigned   \n",
       "6                                     M7JNot assigned   \n",
       "7                                     M7KNot assigned   \n",
       "8                                     M7LNot assigned   \n",
       "9                                     M7MNot assigned   \n",
       "10                                    M7NNot assigned   \n",
       "11                                    M7PNot assigned   \n",
       "12  M7RMississaugaCanada Post Gateway Processing C...   \n",
       "13                                    M7SNot assigned   \n",
       "14                                    M7TNot assigned   \n",
       "15                                    M7VNot assigned   \n",
       "16                                    M7WNot assigned   \n",
       "17                                    M7XNot assigned   \n",
       "18  M7YEast TorontoBusiness reply mail Processing ...   \n",
       "19                                    M7ZNot assigned   \n",
       "\n",
       "                                                    7  \\\n",
       "0                                     M8ANot assigned   \n",
       "1                                     M8BNot assigned   \n",
       "2                                     M8CNot assigned   \n",
       "3                                     M8ENot assigned   \n",
       "4                                     M8GNot assigned   \n",
       "5                                     M8HNot assigned   \n",
       "6                                     M8JNot assigned   \n",
       "7                                     M8KNot assigned   \n",
       "8                                     M8LNot assigned   \n",
       "9                                     M8MNot assigned   \n",
       "10                                    M8NNot assigned   \n",
       "11                                    M8PNot assigned   \n",
       "12                                    M8RNot assigned   \n",
       "13                                    M8SNot assigned   \n",
       "14                                    M8TNot assigned   \n",
       "15  M8VEtobicoke(New Toronto / Mimico South / Humb...   \n",
       "16              M8WEtobicoke(Alderwood / Long Branch)   \n",
       "17  M8XEtobicoke(The Kingsway / Montgomery Road / ...   \n",
       "18  M8YEtobicoke(Old Mill South / King's Mill Park...   \n",
       "19  M8ZEtobicoke(Mimico NW / The Queensway West / ...   \n",
       "\n",
       "                                                    8  \n",
       "0                      M9AEtobicoke(Islington Avenue)  \n",
       "1   M9BEtobicoke(West Deane Park / Princess Garden...  \n",
       "2   M9CEtobicoke(Eringate / Bloordale Gardens / Ol...  \n",
       "3                                     M9ENot assigned  \n",
       "4                                     M9GNot assigned  \n",
       "5                                     M9HNot assigned  \n",
       "6                                     M9JNot assigned  \n",
       "7                                     M9KNot assigned  \n",
       "8                        M9LNorth York(Humber Summit)  \n",
       "9                    M9MNorth York(Humberlea / Emery)  \n",
       "10                                    M9NYork(Weston)  \n",
       "11                            M9PEtobicoke(Westmount)  \n",
       "12  M9REtobicoke(Kingsview Village / St. Phillips ...  \n",
       "13                                    M9SNot assigned  \n",
       "14                                    M9TNot assigned  \n",
       "15  M9VEtobicoke(South Steeles / Silverstone / Hum...  \n",
       "16  M9WEtobicokeNorthwest(Clairville / Humberwood ...  \n",
       "17                                    M9XNot assigned  \n",
       "18                                    M9YNot assigned  \n",
       "19                                    M9ZNot assigned  "
      ],
      "text/html": "<div>\n<style scoped>\n    .dataframe tbody tr th:only-of-type {\n        vertical-align: middle;\n    }\n\n    .dataframe tbody tr th {\n        vertical-align: top;\n    }\n\n    .dataframe thead th {\n        text-align: right;\n    }\n</style>\n<table border=\"1\" class=\"dataframe\">\n  <thead>\n    <tr style=\"text-align: right;\">\n      <th></th>\n      <th>0</th>\n      <th>1</th>\n      <th>2</th>\n      <th>3</th>\n      <th>4</th>\n      <th>5</th>\n      <th>6</th>\n      <th>7</th>\n      <th>8</th>\n    </tr>\n  </thead>\n  <tbody>\n    <tr>\n      <th>0</th>\n      <td>M1ANot assigned</td>\n      <td>M2ANot assigned</td>\n      <td>M3ANorth York(Parkwoods)</td>\n      <td>M4ANorth York(Victoria Village)</td>\n      <td>M5ADowntown Toronto(Regent Park / Harbourfront)</td>\n      <td>M6ANorth York(Lawrence Manor / Lawrence Heights)</td>\n      <td>M7AQueen's Park(Ontario Provincial Government)</td>\n      <td>M8ANot assigned</td>\n      <td>M9AEtobicoke(Islington Avenue)</td>\n    </tr>\n    <tr>\n      <th>1</th>\n      <td>M1BScarborough(Malvern / Rouge)</td>\n      <td>M2BNot assigned</td>\n      <td>M3BNorth York(Don Mills)North</td>\n      <td>M4BEast York(Parkview Hill / Woodbine Gardens)</td>\n      <td>M5BDowntown Toronto(Garden District, Ryerson)</td>\n      <td>M6BNorth York(Glencairn)</td>\n      <td>M7BNot assigned</td>\n      <td>M8BNot assigned</td>\n      <td>M9BEtobicoke(West Deane Park / Princess Garden...</td>\n    </tr>\n    <tr>\n      <th>2</th>\n      <td>M1CScarborough(Rouge Hill / Port Union / Highl...</td>\n      <td>M2CNot assigned</td>\n      <td>M3CNorth York(Don Mills)South(Flemingdon Park)</td>\n      <td>M4CEast York(Woodbine Heights)</td>\n      <td>M5CDowntown Toronto(St. James Town)</td>\n      <td>M6CYork(Humewood-Cedarvale)</td>\n      <td>M7CNot assigned</td>\n      <td>M8CNot assigned</td>\n      <td>M9CEtobicoke(Eringate / Bloordale Gardens / Ol...</td>\n    </tr>\n    <tr>\n      <th>3</th>\n      <td>M1EScarborough(Guildwood / Morningside / West ...</td>\n      <td>M2ENot assigned</td>\n      <td>M3ENot assigned</td>\n      <td>M4EEast Toronto(The Beaches)</td>\n      <td>M5EDowntown Toronto(Berczy Park)</td>\n      <td>M6EYork(Caledonia-Fairbanks)</td>\n      <td>M7ENot assigned</td>\n      <td>M8ENot assigned</td>\n      <td>M9ENot assigned</td>\n    </tr>\n    <tr>\n      <th>4</th>\n      <td>M1GScarborough(Woburn)</td>\n      <td>M2GNot assigned</td>\n      <td>M3GNot assigned</td>\n      <td>M4GEast York(Leaside)</td>\n      <td>M5GDowntown Toronto(Central Bay Street)</td>\n      <td>M6GDowntown Toronto(Christie)</td>\n      <td>M7GNot assigned</td>\n      <td>M8GNot assigned</td>\n      <td>M9GNot assigned</td>\n    </tr>\n    <tr>\n      <th>5</th>\n      <td>M1HScarborough(Cedarbrae)</td>\n      <td>M2HNorth York(Hillcrest Village)</td>\n      <td>M3HNorth York(Bathurst Manor / Wilson Heights ...</td>\n      <td>M4HEast York(Thorncliffe Park)</td>\n      <td>M5HDowntown Toronto(Richmond / Adelaide / King)</td>\n      <td>M6HWest Toronto(Dufferin / Dovercourt Village)</td>\n      <td>M7HNot assigned</td>\n      <td>M8HNot assigned</td>\n      <td>M9HNot assigned</td>\n    </tr>\n    <tr>\n      <th>6</th>\n      <td>M1JScarborough(Scarborough Village)</td>\n      <td>M2JNorth York(Fairview / Henry Farm / Oriole)</td>\n      <td>M3JNorth York(Northwood Park / York University)</td>\n      <td>M4JEast YorkEast Toronto(The Danforth East)</td>\n      <td>M5JDowntown Toronto(Harbourfront East / Union ...</td>\n      <td>M6JWest Toronto(Little Portugal / Trinity)</td>\n      <td>M7JNot assigned</td>\n      <td>M8JNot assigned</td>\n      <td>M9JNot assigned</td>\n    </tr>\n    <tr>\n      <th>7</th>\n      <td>M1KScarborough(Kennedy Park / Ionview / East B...</td>\n      <td>M2KNorth York(Bayview Village)</td>\n      <td>M3KNorth York(Downsview)East (CFB Toronto)</td>\n      <td>M4KEast Toronto(The Danforth West / Riverdale)</td>\n      <td>M5KDowntown Toronto(Toronto Dominion Centre / ...</td>\n      <td>M6KWest Toronto(Brockton / Parkdale Village / ...</td>\n      <td>M7KNot assigned</td>\n      <td>M8KNot assigned</td>\n      <td>M9KNot assigned</td>\n    </tr>\n    <tr>\n      <th>8</th>\n      <td>M1LScarborough(Golden Mile / Clairlea / Oakridge)</td>\n      <td>M2LNorth York(York Mills / Silver Hills)</td>\n      <td>M3LNorth York(Downsview)West</td>\n      <td>M4LEast Toronto(India Bazaar / The Beaches West)</td>\n      <td>M5LDowntown Toronto(Commerce Court / Victoria ...</td>\n      <td>M6LNorth York(North Park / Maple Leaf Park / U...</td>\n      <td>M7LNot assigned</td>\n      <td>M8LNot assigned</td>\n      <td>M9LNorth York(Humber Summit)</td>\n    </tr>\n    <tr>\n      <th>9</th>\n      <td>M1MScarborough(Cliffside / Cliffcrest / Scarbo...</td>\n      <td>M2MNorth York(Willowdale / Newtonbrook)</td>\n      <td>M3MNorth York(Downsview)Central</td>\n      <td>M4MEast Toronto(Studio District)</td>\n      <td>M5MNorth York(Bedford Park / Lawrence Manor East)</td>\n      <td>M6MYork(Del Ray / Mount Dennis / Keelsdale and...</td>\n      <td>M7MNot assigned</td>\n      <td>M8MNot assigned</td>\n      <td>M9MNorth York(Humberlea / Emery)</td>\n    </tr>\n    <tr>\n      <th>10</th>\n      <td>M1NScarborough(Birch Cliff / Cliffside West)</td>\n      <td>M2NNorth York(Willowdale)South</td>\n      <td>M3NNorth York(Downsview)Northwest</td>\n      <td>M4NCentral Toronto(Lawrence Park)</td>\n      <td>M5NCentral Toronto(Roselawn)</td>\n      <td>M6NYork(Runnymede / The Junction North)</td>\n      <td>M7NNot assigned</td>\n      <td>M8NNot assigned</td>\n      <td>M9NYork(Weston)</td>\n    </tr>\n    <tr>\n      <th>11</th>\n      <td>M1PScarborough(Dorset Park / Wexford Heights /...</td>\n      <td>M2PNorth York(York Mills West)</td>\n      <td>M3PNot assigned</td>\n      <td>M4PCentral Toronto(Davisville North)</td>\n      <td>M5PCentral Toronto(Forest Hill North &amp; West)</td>\n      <td>M6PWest Toronto(High Park / The Junction South)</td>\n      <td>M7PNot assigned</td>\n      <td>M8PNot assigned</td>\n      <td>M9PEtobicoke(Westmount)</td>\n    </tr>\n    <tr>\n      <th>12</th>\n      <td>M1RScarborough(Wexford / Maryvale)</td>\n      <td>M2RNorth York(Willowdale)West</td>\n      <td>M3RNot assigned</td>\n      <td>M4RCentral Toronto(North Toronto West)</td>\n      <td>M5RCentral Toronto(The Annex / North Midtown /...</td>\n      <td>M6RWest Toronto(Parkdale / Roncesvalles)</td>\n      <td>M7RMississaugaCanada Post Gateway Processing C...</td>\n      <td>M8RNot assigned</td>\n      <td>M9REtobicoke(Kingsview Village / St. Phillips ...</td>\n    </tr>\n    <tr>\n      <th>13</th>\n      <td>M1SScarborough(Agincourt)</td>\n      <td>M2SNot assigned</td>\n      <td>M3SNot assigned</td>\n      <td>M4SCentral Toronto(Davisville)</td>\n      <td>M5SDowntown Toronto(University of Toronto / Ha...</td>\n      <td>M6SWest Toronto(Runnymede / Swansea)</td>\n      <td>M7SNot assigned</td>\n      <td>M8SNot assigned</td>\n      <td>M9SNot assigned</td>\n    </tr>\n    <tr>\n      <th>14</th>\n      <td>M1TScarborough(Clarks Corners / Tam O'Shanter ...</td>\n      <td>M2TNot assigned</td>\n      <td>M3TNot assigned</td>\n      <td>M4TCentral Toronto(Moore Park / Summerhill East)</td>\n      <td>M5TDowntown Toronto(Kensington Market / Chinat...</td>\n      <td>M6TNot assigned</td>\n      <td>M7TNot assigned</td>\n      <td>M8TNot assigned</td>\n      <td>M9TNot assigned</td>\n    </tr>\n    <tr>\n      <th>15</th>\n      <td>M1VScarborough(Milliken / Agincourt North / St...</td>\n      <td>M2VNot assigned</td>\n      <td>M3VNot assigned</td>\n      <td>M4VCentral Toronto(Summerhill West / Rathnelly...</td>\n      <td>M5VDowntown Toronto(CN Tower / King and Spadin...</td>\n      <td>M6VNot assigned</td>\n      <td>M7VNot assigned</td>\n      <td>M8VEtobicoke(New Toronto / Mimico South / Humb...</td>\n      <td>M9VEtobicoke(South Steeles / Silverstone / Hum...</td>\n    </tr>\n    <tr>\n      <th>16</th>\n      <td>M1WScarborough(Steeles West / L'Amoreaux West)</td>\n      <td>M2WNot assigned</td>\n      <td>M3WNot assigned</td>\n      <td>M4WDowntown Toronto(Rosedale)</td>\n      <td>M5WDowntown TorontoStn A PO Boxes25 The Esplan...</td>\n      <td>M6WNot assigned</td>\n      <td>M7WNot assigned</td>\n      <td>M8WEtobicoke(Alderwood / Long Branch)</td>\n      <td>M9WEtobicokeNorthwest(Clairville / Humberwood ...</td>\n    </tr>\n    <tr>\n      <th>17</th>\n      <td>M1XScarborough(Upper Rouge)</td>\n      <td>M2XNot assigned</td>\n      <td>M3XNot assigned</td>\n      <td>M4XDowntown Toronto(St. James Town / Cabbagetown)</td>\n      <td>M5XDowntown Toronto(First Canadian Place / Und...</td>\n      <td>M6XNot assigned</td>\n      <td>M7XNot assigned</td>\n      <td>M8XEtobicoke(The Kingsway / Montgomery Road / ...</td>\n      <td>M9XNot assigned</td>\n    </tr>\n    <tr>\n      <th>18</th>\n      <td>M1YNot assigned</td>\n      <td>M2YNot assigned</td>\n      <td>M3YNot assigned</td>\n      <td>M4YDowntown Toronto(Church and Wellesley)</td>\n      <td>M5YNot assigned</td>\n      <td>M6YNot assigned</td>\n      <td>M7YEast TorontoBusiness reply mail Processing ...</td>\n      <td>M8YEtobicoke(Old Mill South / King's Mill Park...</td>\n      <td>M9YNot assigned</td>\n    </tr>\n    <tr>\n      <th>19</th>\n      <td>M1ZNot assigned</td>\n      <td>M2ZNot assigned</td>\n      <td>M3ZNot assigned</td>\n      <td>M4ZNot assigned</td>\n      <td>M5ZNot assigned</td>\n      <td>M6ZNot assigned</td>\n      <td>M7ZNot assigned</td>\n      <td>M8ZEtobicoke(Mimico NW / The Queensway West / ...</td>\n      <td>M9ZNot assigned</td>\n    </tr>\n  </tbody>\n</table>\n</div>"
     },
     "metadata": {},
     "execution_count": 109
    }
   ],
   "source": [
    "toronto_wiki_df = toronto_wiki_df[0]\n",
    "toronto_wiki_df"
   ]
  },
  {
   "source": [
    "### Stacking all the columns with the stack() function. In return I got a series table so I converted into a datraframe and saved to a variable called 'toronto_stack'."
   ],
   "cell_type": "markdown",
   "metadata": {}
  },
  {
   "cell_type": "code",
   "execution_count": 110,
   "metadata": {},
   "outputs": [
    {
     "output_type": "execute_result",
     "data": {
      "text/plain": [
       "                                                   0\n",
       "0 0                                  M1ANot assigned\n",
       "  1                                  M2ANot assigned\n",
       "  2                         M3ANorth York(Parkwoods)\n",
       "  3                  M4ANorth York(Victoria Village)\n",
       "  4  M5ADowntown Toronto(Regent Park / Harbourfront)"
      ],
      "text/html": "<div>\n<style scoped>\n    .dataframe tbody tr th:only-of-type {\n        vertical-align: middle;\n    }\n\n    .dataframe tbody tr th {\n        vertical-align: top;\n    }\n\n    .dataframe thead th {\n        text-align: right;\n    }\n</style>\n<table border=\"1\" class=\"dataframe\">\n  <thead>\n    <tr style=\"text-align: right;\">\n      <th></th>\n      <th></th>\n      <th>0</th>\n    </tr>\n  </thead>\n  <tbody>\n    <tr>\n      <th rowspan=\"5\" valign=\"top\">0</th>\n      <th>0</th>\n      <td>M1ANot assigned</td>\n    </tr>\n    <tr>\n      <th>1</th>\n      <td>M2ANot assigned</td>\n    </tr>\n    <tr>\n      <th>2</th>\n      <td>M3ANorth York(Parkwoods)</td>\n    </tr>\n    <tr>\n      <th>3</th>\n      <td>M4ANorth York(Victoria Village)</td>\n    </tr>\n    <tr>\n      <th>4</th>\n      <td>M5ADowntown Toronto(Regent Park / Harbourfront)</td>\n    </tr>\n  </tbody>\n</table>\n</div>"
     },
     "metadata": {},
     "execution_count": 110
    }
   ],
   "source": [
    "toronto_stack = toronto_wiki_df.stack()\n",
    "toronto_stack = pd.DataFrame(toronto_stack)\n",
    "toronto_stack.head()"
   ]
  },
  {
   "source": [
    "### Using the .drop() to eliminate all samples which contains the string 'Not assigned'. I achieve this goal by using .str.contains to locate all string values inside the target column that contains 'Not Assigned'. Ultimately I save this process to the variable 'toronto_stack'."
   ],
   "cell_type": "markdown",
   "metadata": {}
  },
  {
   "cell_type": "code",
   "execution_count": 111,
   "metadata": {},
   "outputs": [
    {
     "output_type": "execute_result",
     "data": {
      "text/plain": [
       "                                                    0\n",
       "0 2                          M3ANorth York(Parkwoods)\n",
       "  3                   M4ANorth York(Victoria Village)\n",
       "  4   M5ADowntown Toronto(Regent Park / Harbourfront)\n",
       "  5  M6ANorth York(Lawrence Manor / Lawrence Heights)\n",
       "  6    M7AQueen's Park(Ontario Provincial Government)"
      ],
      "text/html": "<div>\n<style scoped>\n    .dataframe tbody tr th:only-of-type {\n        vertical-align: middle;\n    }\n\n    .dataframe tbody tr th {\n        vertical-align: top;\n    }\n\n    .dataframe thead th {\n        text-align: right;\n    }\n</style>\n<table border=\"1\" class=\"dataframe\">\n  <thead>\n    <tr style=\"text-align: right;\">\n      <th></th>\n      <th></th>\n      <th>0</th>\n    </tr>\n  </thead>\n  <tbody>\n    <tr>\n      <th rowspan=\"5\" valign=\"top\">0</th>\n      <th>2</th>\n      <td>M3ANorth York(Parkwoods)</td>\n    </tr>\n    <tr>\n      <th>3</th>\n      <td>M4ANorth York(Victoria Village)</td>\n    </tr>\n    <tr>\n      <th>4</th>\n      <td>M5ADowntown Toronto(Regent Park / Harbourfront)</td>\n    </tr>\n    <tr>\n      <th>5</th>\n      <td>M6ANorth York(Lawrence Manor / Lawrence Heights)</td>\n    </tr>\n    <tr>\n      <th>6</th>\n      <td>M7AQueen's Park(Ontario Provincial Government)</td>\n    </tr>\n  </tbody>\n</table>\n</div>"
     },
     "metadata": {},
     "execution_count": 111
    }
   ],
   "source": [
    "toronto_stack = toronto_stack.drop(toronto_stack[toronto_stack[0].str.contains('Not assigned')].index.tolist())\n",
    "toronto_stack.head()"
   ]
  },
  {
   "source": [
    "### Using .droplevel() I'm eliminating the rows additional index level wich it was created when I stacked all the columns using .stack() 'located in the cell#10' of this notebook. to make everything will run smooth I'm also using .reset_index() to reset the tables index "
   ],
   "cell_type": "markdown",
   "metadata": {}
  },
  {
   "cell_type": "code",
   "execution_count": 112,
   "metadata": {},
   "outputs": [
    {
     "output_type": "execute_result",
     "data": {
      "text/plain": [
       "                                                  0\n",
       "0                          M3ANorth York(Parkwoods)\n",
       "1                   M4ANorth York(Victoria Village)\n",
       "2   M5ADowntown Toronto(Regent Park / Harbourfront)\n",
       "3  M6ANorth York(Lawrence Manor / Lawrence Heights)\n",
       "4    M7AQueen's Park(Ontario Provincial Government)"
      ],
      "text/html": "<div>\n<style scoped>\n    .dataframe tbody tr th:only-of-type {\n        vertical-align: middle;\n    }\n\n    .dataframe tbody tr th {\n        vertical-align: top;\n    }\n\n    .dataframe thead th {\n        text-align: right;\n    }\n</style>\n<table border=\"1\" class=\"dataframe\">\n  <thead>\n    <tr style=\"text-align: right;\">\n      <th></th>\n      <th>0</th>\n    </tr>\n  </thead>\n  <tbody>\n    <tr>\n      <th>0</th>\n      <td>M3ANorth York(Parkwoods)</td>\n    </tr>\n    <tr>\n      <th>1</th>\n      <td>M4ANorth York(Victoria Village)</td>\n    </tr>\n    <tr>\n      <th>2</th>\n      <td>M5ADowntown Toronto(Regent Park / Harbourfront)</td>\n    </tr>\n    <tr>\n      <th>3</th>\n      <td>M6ANorth York(Lawrence Manor / Lawrence Heights)</td>\n    </tr>\n    <tr>\n      <th>4</th>\n      <td>M7AQueen's Park(Ontario Provincial Government)</td>\n    </tr>\n  </tbody>\n</table>\n</div>"
     },
     "metadata": {},
     "execution_count": 112
    }
   ],
   "source": [
    "toronto_stack = toronto_stack.droplevel(level=0, axis=0).reset_index(drop=True)\n",
    "toronto_stack.head()"
   ]
  },
  {
   "source": [
    "### In the next 3 code cells I'll be deviding the only column in this dataframe into 3 diffrent columns. 1st column will contain the [PostalCode], 2nd the [Borough], and 3rd the [Neighborhood] column for the city of Toronto.\n",
    "\n",
    "1st - In the following lines of code I'll be creating the 1st column which contains all postal codes. Since I know all postal codes in the column values occupies exactly the first 3 locations in the string index I'll use .str.slice() with the parameters start at index '0' and stopping at index '3' to slice it, creating a new 1 column table. Initially I'll save to a variable called  'toronto_1st_slice' and ultimately saving to a variable called 'col1'.\n",
    "\n",
    "Apply .strip() to eliminate all white spaces"
   ],
   "cell_type": "markdown",
   "metadata": {}
  },
  {
   "cell_type": "code",
   "execution_count": 113,
   "metadata": {},
   "outputs": [
    {
     "output_type": "execute_result",
     "data": {
      "text/plain": [
       "     0\n",
       "0  M3A\n",
       "1  M4A\n",
       "2  M5A\n",
       "3  M6A\n",
       "4  M7A"
      ],
      "text/html": "<div>\n<style scoped>\n    .dataframe tbody tr th:only-of-type {\n        vertical-align: middle;\n    }\n\n    .dataframe tbody tr th {\n        vertical-align: top;\n    }\n\n    .dataframe thead th {\n        text-align: right;\n    }\n</style>\n<table border=\"1\" class=\"dataframe\">\n  <thead>\n    <tr style=\"text-align: right;\">\n      <th></th>\n      <th>0</th>\n    </tr>\n  </thead>\n  <tbody>\n    <tr>\n      <th>0</th>\n      <td>M3A</td>\n    </tr>\n    <tr>\n      <th>1</th>\n      <td>M4A</td>\n    </tr>\n    <tr>\n      <th>2</th>\n      <td>M5A</td>\n    </tr>\n    <tr>\n      <th>3</th>\n      <td>M6A</td>\n    </tr>\n    <tr>\n      <th>4</th>\n      <td>M7A</td>\n    </tr>\n  </tbody>\n</table>\n</div>"
     },
     "metadata": {},
     "execution_count": 113
    }
   ],
   "source": [
    "toronto_1st_slice = toronto_stack[0].str.slice(start=0, stop=3)\n",
    "col1 = toronto_1st_slice\n",
    "col1 = col1.str.strip()\n",
    "col1 = pd.DataFrame(col1)\n",
    "col1.head()"
   ]
  },
  {
   "source": [
    "### 2nd - Still using the toronto_stack dataFrame located in 'cell#10' I'll use the str.slice again, but this time I'll use the parameter to start at index 3 instead of '0' like in the previous cell. This will alow me to capture the whole string after index location 3. I'll save this line of code to variable 'toronto_2nd_slice'.\n",
    "Take a look at the dataFrame at the code 'cell#10'. See how the Neighborhoods inside the column values are located between parantheses?!  \n",
    "With the variable 'toronto_2nd_slice', applying .str.split(), I'll use the first parantheses('(') as a separator to split the 'Boroughs' and 'Neikghborhoods'. \n",
    "I'll use the parameters 'n=1' for splitting only at the first ocurrance of parantheses('('), and 'expand=True' to split one column dataFrame into 2 separate columns.\n",
    "After spliting 'toronto_2nd_slice' into 2 columns, I'll need only the 1st column for the next step. I'll achiave this by storing the 'toronto_split' table using only the 1st column, into a variable called 'col2'.\n",
    "\n",
    "Now we have a single column table with just the 'Boroughs'.\n",
    "\n",
    "Apply .strip() to eliminate all white spaces"
   ],
   "cell_type": "markdown",
   "metadata": {}
  },
  {
   "cell_type": "code",
   "execution_count": 114,
   "metadata": {},
   "outputs": [
    {
     "output_type": "execute_result",
     "data": {
      "text/plain": [
       "                  0\n",
       "0        North York\n",
       "1        North York\n",
       "2  Downtown Toronto\n",
       "3        North York\n",
       "4      Queen's Park"
      ],
      "text/html": "<div>\n<style scoped>\n    .dataframe tbody tr th:only-of-type {\n        vertical-align: middle;\n    }\n\n    .dataframe tbody tr th {\n        vertical-align: top;\n    }\n\n    .dataframe thead th {\n        text-align: right;\n    }\n</style>\n<table border=\"1\" class=\"dataframe\">\n  <thead>\n    <tr style=\"text-align: right;\">\n      <th></th>\n      <th>0</th>\n    </tr>\n  </thead>\n  <tbody>\n    <tr>\n      <th>0</th>\n      <td>North York</td>\n    </tr>\n    <tr>\n      <th>1</th>\n      <td>North York</td>\n    </tr>\n    <tr>\n      <th>2</th>\n      <td>Downtown Toronto</td>\n    </tr>\n    <tr>\n      <th>3</th>\n      <td>North York</td>\n    </tr>\n    <tr>\n      <th>4</th>\n      <td>Queen's Park</td>\n    </tr>\n  </tbody>\n</table>\n</div>"
     },
     "metadata": {},
     "execution_count": 114
    }
   ],
   "source": [
    "toronto_2nd_slice = toronto_stack[0].str.slice(start=3)\n",
    "toronto_split = toronto_2nd_slice.str.split('(', n=1, expand=True)\n",
    "col2 = toronto_split[0]\n",
    "col2 = col2.str.strip()\n",
    "col2 = pd.DataFrame(col2)\n",
    "col2.head()"
   ]
  },
  {
   "source": [
    "### 3rd - In this step I'll use 'str.replace()', str.strip and str.replace() to clean up 'toronto_split' dataFrame 2nd column values of all unwanted characters. I'll store this code into a variable called 'col3'."
   ],
   "cell_type": "markdown",
   "metadata": {}
  },
  {
   "cell_type": "code",
   "execution_count": 115,
   "metadata": {},
   "outputs": [
    {
     "output_type": "execute_result",
     "data": {
      "text/plain": [
       "                                   1\n",
       "0                          Parkwoods\n",
       "1                   Victoria Village\n",
       "2         Regent Park,  Harbourfront\n",
       "3  Lawrence Manor,  Lawrence Heights\n",
       "4      Ontario Provincial Government"
      ],
      "text/html": "<div>\n<style scoped>\n    .dataframe tbody tr th:only-of-type {\n        vertical-align: middle;\n    }\n\n    .dataframe tbody tr th {\n        vertical-align: top;\n    }\n\n    .dataframe thead th {\n        text-align: right;\n    }\n</style>\n<table border=\"1\" class=\"dataframe\">\n  <thead>\n    <tr style=\"text-align: right;\">\n      <th></th>\n      <th>1</th>\n    </tr>\n  </thead>\n  <tbody>\n    <tr>\n      <th>0</th>\n      <td>Parkwoods</td>\n    </tr>\n    <tr>\n      <th>1</th>\n      <td>Victoria Village</td>\n    </tr>\n    <tr>\n      <th>2</th>\n      <td>Regent Park,  Harbourfront</td>\n    </tr>\n    <tr>\n      <th>3</th>\n      <td>Lawrence Manor,  Lawrence Heights</td>\n    </tr>\n    <tr>\n      <th>4</th>\n      <td>Ontario Provincial Government</td>\n    </tr>\n  </tbody>\n</table>\n</div>"
     },
     "metadata": {},
     "execution_count": 115
    }
   ],
   "source": [
    "col3 = (((((toronto_split[1].str.replace(')',' ').str.strip(')')).str.replace(')','')).str.replace('/',',')).str.replace(' ,',', ')).str.strip())\n",
    "col3 = pd.DataFrame(col3)\n",
    "col3.head()"
   ]
  },
  {
   "source": [
    "### In these final steps I'll be resetting the indexes for [col1], [col2] and [col3]. After resetting all indexes I'll use 'pd.concat()' to create a brand new dataFrame with [col1, col2, col3]. The 'axis' parameter will be set to '1'. This will allow the tables to align horizontally forming 3 columns.\n",
    "Next I'll store the code into the variabble 'toronto_df', name the columns, use 'drop_duplicates' to make there are no duplicates in the dataFrame, and lastly in this code cell I'll print the size of the dataFrame with '.shape'. The result is a dataFrame with 103 rows and 3 columns."
   ],
   "cell_type": "markdown",
   "metadata": {}
  },
  {
   "cell_type": "code",
   "execution_count": 116,
   "metadata": {},
   "outputs": [
    {
     "output_type": "stream",
     "name": "stdout",
     "text": [
      "(103, 3)\n"
     ]
    },
    {
     "output_type": "execute_result",
     "data": {
      "text/plain": [
       "    PostalCode                                            Borough  \\\n",
       "0          M3A                                         North York   \n",
       "1          M4A                                         North York   \n",
       "2          M5A                                   Downtown Toronto   \n",
       "3          M6A                                         North York   \n",
       "4          M7A                                       Queen's Park   \n",
       "5          M9A                                          Etobicoke   \n",
       "6          M1B                                        Scarborough   \n",
       "7          M3B                                         North York   \n",
       "8          M4B                                          East York   \n",
       "9          M5B                                   Downtown Toronto   \n",
       "10         M6B                                         North York   \n",
       "11         M9B                                          Etobicoke   \n",
       "12         M1C                                        Scarborough   \n",
       "13         M3C                                         North York   \n",
       "14         M4C                                          East York   \n",
       "15         M5C                                   Downtown Toronto   \n",
       "16         M6C                                               York   \n",
       "17         M9C                                          Etobicoke   \n",
       "18         M1E                                        Scarborough   \n",
       "19         M4E                                       East Toronto   \n",
       "20         M5E                                   Downtown Toronto   \n",
       "21         M6E                                               York   \n",
       "22         M1G                                        Scarborough   \n",
       "23         M4G                                          East York   \n",
       "24         M5G                                   Downtown Toronto   \n",
       "25         M6G                                   Downtown Toronto   \n",
       "26         M1H                                        Scarborough   \n",
       "27         M2H                                         North York   \n",
       "28         M3H                                         North York   \n",
       "29         M4H                                          East York   \n",
       "30         M5H                                   Downtown Toronto   \n",
       "31         M6H                                       West Toronto   \n",
       "32         M1J                                        Scarborough   \n",
       "33         M2J                                         North York   \n",
       "34         M3J                                         North York   \n",
       "35         M4J                              East YorkEast Toronto   \n",
       "36         M5J                                   Downtown Toronto   \n",
       "37         M6J                                       West Toronto   \n",
       "38         M1K                                        Scarborough   \n",
       "39         M2K                                         North York   \n",
       "40         M3K                                         North York   \n",
       "41         M4K                                       East Toronto   \n",
       "42         M5K                                   Downtown Toronto   \n",
       "43         M6K                                       West Toronto   \n",
       "44         M1L                                        Scarborough   \n",
       "45         M2L                                         North York   \n",
       "46         M3L                                         North York   \n",
       "47         M4L                                       East Toronto   \n",
       "48         M5L                                   Downtown Toronto   \n",
       "49         M6L                                         North York   \n",
       "50         M9L                                         North York   \n",
       "51         M1M                                        Scarborough   \n",
       "52         M2M                                         North York   \n",
       "53         M3M                                         North York   \n",
       "54         M4M                                       East Toronto   \n",
       "55         M5M                                         North York   \n",
       "56         M6M                                               York   \n",
       "57         M9M                                         North York   \n",
       "58         M1N                                        Scarborough   \n",
       "59         M2N                                         North York   \n",
       "60         M3N                                         North York   \n",
       "61         M4N                                    Central Toronto   \n",
       "62         M5N                                    Central Toronto   \n",
       "63         M6N                                               York   \n",
       "64         M9N                                               York   \n",
       "65         M1P                                        Scarborough   \n",
       "66         M2P                                         North York   \n",
       "67         M4P                                    Central Toronto   \n",
       "68         M5P                                    Central Toronto   \n",
       "69         M6P                                       West Toronto   \n",
       "70         M9P                                          Etobicoke   \n",
       "71         M1R                                        Scarborough   \n",
       "72         M2R                                         North York   \n",
       "73         M4R                                    Central Toronto   \n",
       "74         M5R                                    Central Toronto   \n",
       "75         M6R                                       West Toronto   \n",
       "76         M7R   MississaugaCanada Post Gateway Processing Centre   \n",
       "77         M9R                                          Etobicoke   \n",
       "78         M1S                                        Scarborough   \n",
       "79         M4S                                    Central Toronto   \n",
       "80         M5S                                   Downtown Toronto   \n",
       "81         M6S                                       West Toronto   \n",
       "82         M1T                                        Scarborough   \n",
       "83         M4T                                    Central Toronto   \n",
       "84         M5T                                   Downtown Toronto   \n",
       "85         M1V                                        Scarborough   \n",
       "86         M4V                                    Central Toronto   \n",
       "87         M5V                                   Downtown Toronto   \n",
       "88         M8V                                          Etobicoke   \n",
       "89         M9V                                          Etobicoke   \n",
       "90         M1W                                        Scarborough   \n",
       "91         M4W                                   Downtown Toronto   \n",
       "92         M5W     Downtown TorontoStn A PO Boxes25 The Esplanade   \n",
       "93         M8W                                          Etobicoke   \n",
       "94         M9W                                 EtobicokeNorthwest   \n",
       "95         M1X                                        Scarborough   \n",
       "96         M4X                                   Downtown Toronto   \n",
       "97         M5X                                   Downtown Toronto   \n",
       "98         M8X                                          Etobicoke   \n",
       "99         M4Y                                   Downtown Toronto   \n",
       "100        M7Y  East TorontoBusiness reply mail Processing Cen...   \n",
       "101        M8Y                                          Etobicoke   \n",
       "102        M8Z                                          Etobicoke   \n",
       "\n",
       "                                          Neighborhood  \n",
       "0                                            Parkwoods  \n",
       "1                                     Victoria Village  \n",
       "2                           Regent Park,  Harbourfront  \n",
       "3                    Lawrence Manor,  Lawrence Heights  \n",
       "4                        Ontario Provincial Government  \n",
       "5                                     Islington Avenue  \n",
       "6                                      Malvern,  Rouge  \n",
       "7                                      Don Mills North  \n",
       "8                     Parkview Hill,  Woodbine Gardens  \n",
       "9                             Garden District, Ryerson  \n",
       "10                                           Glencairn  \n",
       "11   West Deane Park,  Princess Gardens,  Martin Gr...  \n",
       "12            Rouge Hill,  Port Union,  Highland Creek  \n",
       "13                     Don Mills South(Flemingdon Park  \n",
       "14                                    Woodbine Heights  \n",
       "15                                      St. James Town  \n",
       "16                                  Humewood-Cedarvale  \n",
       "17   Eringate,  Bloordale Gardens,  Old Burnhamthor...  \n",
       "18                 Guildwood,  Morningside,  West Hill  \n",
       "19                                         The Beaches  \n",
       "20                                         Berczy Park  \n",
       "21                                 Caledonia-Fairbanks  \n",
       "22                                              Woburn  \n",
       "23                                             Leaside  \n",
       "24                                  Central Bay Street  \n",
       "25                                            Christie  \n",
       "26                                           Cedarbrae  \n",
       "27                                   Hillcrest Village  \n",
       "28   Bathurst Manor,  Wilson Heights,  Downsview North  \n",
       "29                                    Thorncliffe Park  \n",
       "30                          Richmond,  Adelaide,  King  \n",
       "31                       Dufferin,  Dovercourt Village  \n",
       "32                                 Scarborough Village  \n",
       "33                      Fairview,  Henry Farm,  Oriole  \n",
       "34                    Northwood Park,  York University  \n",
       "35                                   The Danforth East  \n",
       "36   Harbourfront East,  Union Station,  Toronto Is...  \n",
       "37                           Little Portugal,  Trinity  \n",
       "38       Kennedy Park,  Ionview,  East Birchmount Park  \n",
       "39                                     Bayview Village  \n",
       "40                         Downsview East (CFB Toronto  \n",
       "41                       The Danforth West,  Riverdale  \n",
       "42           Toronto Dominion Centre,  Design Exchange  \n",
       "43      Brockton,  Parkdale Village,  Exhibition Place  \n",
       "44                   Golden Mile,  Clairlea,  Oakridge  \n",
       "45                           York Mills,  Silver Hills  \n",
       "46                                      Downsview West  \n",
       "47                     India Bazaar,  The Beaches West  \n",
       "48                     Commerce Court,  Victoria Hotel  \n",
       "49          North Park,  Maple Leaf Park,  Upwood Park  \n",
       "50                                       Humber Summit  \n",
       "51   Cliffside,  Cliffcrest,  Scarborough Village West  \n",
       "52                            Willowdale,  Newtonbrook  \n",
       "53                                   Downsview Central  \n",
       "54                                     Studio District  \n",
       "55                  Bedford Park,  Lawrence Manor East  \n",
       "56   Del Ray,  Mount Dennis,  Keelsdale and Silvert...  \n",
       "57                                   Humberlea,  Emery  \n",
       "58                        Birch Cliff,  Cliffside West  \n",
       "59                                    Willowdale South  \n",
       "60                                 Downsview Northwest  \n",
       "61                                       Lawrence Park  \n",
       "62                                            Roselawn  \n",
       "63                      Runnymede,  The Junction North  \n",
       "64                                              Weston  \n",
       "65   Dorset Park,  Wexford Heights,  Scarborough To...  \n",
       "66                                     York Mills West  \n",
       "67                                    Davisville North  \n",
       "68                            Forest Hill North & West  \n",
       "69                      High Park,  The Junction South  \n",
       "70                                           Westmount  \n",
       "71                                  Wexford,  Maryvale  \n",
       "72                                     Willowdale West  \n",
       "73                                  North Toronto West  \n",
       "74               The Annex,  North Midtown,  Yorkville  \n",
       "75                             Parkdale,  Roncesvalles  \n",
       "76                                      Enclave of L4W  \n",
       "77   Kingsview Village,  St. Phillips,  Martin Grov...  \n",
       "78                                           Agincourt  \n",
       "79                                          Davisville  \n",
       "80                     University of Toronto,  Harbord  \n",
       "81                                 Runnymede,  Swansea  \n",
       "82           Clarks Corners,  Tam O'Shanter,  Sullivan  \n",
       "83                        Moore Park,  Summerhill East  \n",
       "84         Kensington Market,  Chinatown,  Grange Park  \n",
       "85   Milliken,  Agincourt North,  Steeles East,  L'...  \n",
       "86   Summerhill West,  Rathnelly,  South Hill,  For...  \n",
       "87   CN Tower,  King and Spadina,  Railway Lands,  ...  \n",
       "88      New Toronto,  Mimico South,  Humber Bay Shores  \n",
       "89   South Steeles,  Silverstone,  Humbergate,  Jam...  \n",
       "90                      Steeles West,  L'Amoreaux West  \n",
       "91                                            Rosedale  \n",
       "92                                      Enclave of M5E  \n",
       "93                             Alderwood,  Long Branch  \n",
       "94   Clairville,  Humberwood,  Woodbine Downs,  Wes...  \n",
       "95                                         Upper Rouge  \n",
       "96                        St. James Town,  Cabbagetown  \n",
       "97             First Canadian Place,  Underground city  \n",
       "98     The Kingsway,  Montgomery Road,  Old Mill North  \n",
       "99                                Church and Wellesley  \n",
       "100                                     Enclave of M4L  \n",
       "101  Old Mill South,  King's Mill Park,  Sunnylea, ...  \n",
       "102  Mimico NW,  The Queensway West,  South of Bloo...  "
      ],
      "text/html": "<div>\n<style scoped>\n    .dataframe tbody tr th:only-of-type {\n        vertical-align: middle;\n    }\n\n    .dataframe tbody tr th {\n        vertical-align: top;\n    }\n\n    .dataframe thead th {\n        text-align: right;\n    }\n</style>\n<table border=\"1\" class=\"dataframe\">\n  <thead>\n    <tr style=\"text-align: right;\">\n      <th></th>\n      <th>PostalCode</th>\n      <th>Borough</th>\n      <th>Neighborhood</th>\n    </tr>\n  </thead>\n  <tbody>\n    <tr>\n      <th>0</th>\n      <td>M3A</td>\n      <td>North York</td>\n      <td>Parkwoods</td>\n    </tr>\n    <tr>\n      <th>1</th>\n      <td>M4A</td>\n      <td>North York</td>\n      <td>Victoria Village</td>\n    </tr>\n    <tr>\n      <th>2</th>\n      <td>M5A</td>\n      <td>Downtown Toronto</td>\n      <td>Regent Park,  Harbourfront</td>\n    </tr>\n    <tr>\n      <th>3</th>\n      <td>M6A</td>\n      <td>North York</td>\n      <td>Lawrence Manor,  Lawrence Heights</td>\n    </tr>\n    <tr>\n      <th>4</th>\n      <td>M7A</td>\n      <td>Queen's Park</td>\n      <td>Ontario Provincial Government</td>\n    </tr>\n    <tr>\n      <th>5</th>\n      <td>M9A</td>\n      <td>Etobicoke</td>\n      <td>Islington Avenue</td>\n    </tr>\n    <tr>\n      <th>6</th>\n      <td>M1B</td>\n      <td>Scarborough</td>\n      <td>Malvern,  Rouge</td>\n    </tr>\n    <tr>\n      <th>7</th>\n      <td>M3B</td>\n      <td>North York</td>\n      <td>Don Mills North</td>\n    </tr>\n    <tr>\n      <th>8</th>\n      <td>M4B</td>\n      <td>East York</td>\n      <td>Parkview Hill,  Woodbine Gardens</td>\n    </tr>\n    <tr>\n      <th>9</th>\n      <td>M5B</td>\n      <td>Downtown Toronto</td>\n      <td>Garden District, Ryerson</td>\n    </tr>\n    <tr>\n      <th>10</th>\n      <td>M6B</td>\n      <td>North York</td>\n      <td>Glencairn</td>\n    </tr>\n    <tr>\n      <th>11</th>\n      <td>M9B</td>\n      <td>Etobicoke</td>\n      <td>West Deane Park,  Princess Gardens,  Martin Gr...</td>\n    </tr>\n    <tr>\n      <th>12</th>\n      <td>M1C</td>\n      <td>Scarborough</td>\n      <td>Rouge Hill,  Port Union,  Highland Creek</td>\n    </tr>\n    <tr>\n      <th>13</th>\n      <td>M3C</td>\n      <td>North York</td>\n      <td>Don Mills South(Flemingdon Park</td>\n    </tr>\n    <tr>\n      <th>14</th>\n      <td>M4C</td>\n      <td>East York</td>\n      <td>Woodbine Heights</td>\n    </tr>\n    <tr>\n      <th>15</th>\n      <td>M5C</td>\n      <td>Downtown Toronto</td>\n      <td>St. James Town</td>\n    </tr>\n    <tr>\n      <th>16</th>\n      <td>M6C</td>\n      <td>York</td>\n      <td>Humewood-Cedarvale</td>\n    </tr>\n    <tr>\n      <th>17</th>\n      <td>M9C</td>\n      <td>Etobicoke</td>\n      <td>Eringate,  Bloordale Gardens,  Old Burnhamthor...</td>\n    </tr>\n    <tr>\n      <th>18</th>\n      <td>M1E</td>\n      <td>Scarborough</td>\n      <td>Guildwood,  Morningside,  West Hill</td>\n    </tr>\n    <tr>\n      <th>19</th>\n      <td>M4E</td>\n      <td>East Toronto</td>\n      <td>The Beaches</td>\n    </tr>\n    <tr>\n      <th>20</th>\n      <td>M5E</td>\n      <td>Downtown Toronto</td>\n      <td>Berczy Park</td>\n    </tr>\n    <tr>\n      <th>21</th>\n      <td>M6E</td>\n      <td>York</td>\n      <td>Caledonia-Fairbanks</td>\n    </tr>\n    <tr>\n      <th>22</th>\n      <td>M1G</td>\n      <td>Scarborough</td>\n      <td>Woburn</td>\n    </tr>\n    <tr>\n      <th>23</th>\n      <td>M4G</td>\n      <td>East York</td>\n      <td>Leaside</td>\n    </tr>\n    <tr>\n      <th>24</th>\n      <td>M5G</td>\n      <td>Downtown Toronto</td>\n      <td>Central Bay Street</td>\n    </tr>\n    <tr>\n      <th>25</th>\n      <td>M6G</td>\n      <td>Downtown Toronto</td>\n      <td>Christie</td>\n    </tr>\n    <tr>\n      <th>26</th>\n      <td>M1H</td>\n      <td>Scarborough</td>\n      <td>Cedarbrae</td>\n    </tr>\n    <tr>\n      <th>27</th>\n      <td>M2H</td>\n      <td>North York</td>\n      <td>Hillcrest Village</td>\n    </tr>\n    <tr>\n      <th>28</th>\n      <td>M3H</td>\n      <td>North York</td>\n      <td>Bathurst Manor,  Wilson Heights,  Downsview North</td>\n    </tr>\n    <tr>\n      <th>29</th>\n      <td>M4H</td>\n      <td>East York</td>\n      <td>Thorncliffe Park</td>\n    </tr>\n    <tr>\n      <th>30</th>\n      <td>M5H</td>\n      <td>Downtown Toronto</td>\n      <td>Richmond,  Adelaide,  King</td>\n    </tr>\n    <tr>\n      <th>31</th>\n      <td>M6H</td>\n      <td>West Toronto</td>\n      <td>Dufferin,  Dovercourt Village</td>\n    </tr>\n    <tr>\n      <th>32</th>\n      <td>M1J</td>\n      <td>Scarborough</td>\n      <td>Scarborough Village</td>\n    </tr>\n    <tr>\n      <th>33</th>\n      <td>M2J</td>\n      <td>North York</td>\n      <td>Fairview,  Henry Farm,  Oriole</td>\n    </tr>\n    <tr>\n      <th>34</th>\n      <td>M3J</td>\n      <td>North York</td>\n      <td>Northwood Park,  York University</td>\n    </tr>\n    <tr>\n      <th>35</th>\n      <td>M4J</td>\n      <td>East YorkEast Toronto</td>\n      <td>The Danforth East</td>\n    </tr>\n    <tr>\n      <th>36</th>\n      <td>M5J</td>\n      <td>Downtown Toronto</td>\n      <td>Harbourfront East,  Union Station,  Toronto Is...</td>\n    </tr>\n    <tr>\n      <th>37</th>\n      <td>M6J</td>\n      <td>West Toronto</td>\n      <td>Little Portugal,  Trinity</td>\n    </tr>\n    <tr>\n      <th>38</th>\n      <td>M1K</td>\n      <td>Scarborough</td>\n      <td>Kennedy Park,  Ionview,  East Birchmount Park</td>\n    </tr>\n    <tr>\n      <th>39</th>\n      <td>M2K</td>\n      <td>North York</td>\n      <td>Bayview Village</td>\n    </tr>\n    <tr>\n      <th>40</th>\n      <td>M3K</td>\n      <td>North York</td>\n      <td>Downsview East (CFB Toronto</td>\n    </tr>\n    <tr>\n      <th>41</th>\n      <td>M4K</td>\n      <td>East Toronto</td>\n      <td>The Danforth West,  Riverdale</td>\n    </tr>\n    <tr>\n      <th>42</th>\n      <td>M5K</td>\n      <td>Downtown Toronto</td>\n      <td>Toronto Dominion Centre,  Design Exchange</td>\n    </tr>\n    <tr>\n      <th>43</th>\n      <td>M6K</td>\n      <td>West Toronto</td>\n      <td>Brockton,  Parkdale Village,  Exhibition Place</td>\n    </tr>\n    <tr>\n      <th>44</th>\n      <td>M1L</td>\n      <td>Scarborough</td>\n      <td>Golden Mile,  Clairlea,  Oakridge</td>\n    </tr>\n    <tr>\n      <th>45</th>\n      <td>M2L</td>\n      <td>North York</td>\n      <td>York Mills,  Silver Hills</td>\n    </tr>\n    <tr>\n      <th>46</th>\n      <td>M3L</td>\n      <td>North York</td>\n      <td>Downsview West</td>\n    </tr>\n    <tr>\n      <th>47</th>\n      <td>M4L</td>\n      <td>East Toronto</td>\n      <td>India Bazaar,  The Beaches West</td>\n    </tr>\n    <tr>\n      <th>48</th>\n      <td>M5L</td>\n      <td>Downtown Toronto</td>\n      <td>Commerce Court,  Victoria Hotel</td>\n    </tr>\n    <tr>\n      <th>49</th>\n      <td>M6L</td>\n      <td>North York</td>\n      <td>North Park,  Maple Leaf Park,  Upwood Park</td>\n    </tr>\n    <tr>\n      <th>50</th>\n      <td>M9L</td>\n      <td>North York</td>\n      <td>Humber Summit</td>\n    </tr>\n    <tr>\n      <th>51</th>\n      <td>M1M</td>\n      <td>Scarborough</td>\n      <td>Cliffside,  Cliffcrest,  Scarborough Village West</td>\n    </tr>\n    <tr>\n      <th>52</th>\n      <td>M2M</td>\n      <td>North York</td>\n      <td>Willowdale,  Newtonbrook</td>\n    </tr>\n    <tr>\n      <th>53</th>\n      <td>M3M</td>\n      <td>North York</td>\n      <td>Downsview Central</td>\n    </tr>\n    <tr>\n      <th>54</th>\n      <td>M4M</td>\n      <td>East Toronto</td>\n      <td>Studio District</td>\n    </tr>\n    <tr>\n      <th>55</th>\n      <td>M5M</td>\n      <td>North York</td>\n      <td>Bedford Park,  Lawrence Manor East</td>\n    </tr>\n    <tr>\n      <th>56</th>\n      <td>M6M</td>\n      <td>York</td>\n      <td>Del Ray,  Mount Dennis,  Keelsdale and Silvert...</td>\n    </tr>\n    <tr>\n      <th>57</th>\n      <td>M9M</td>\n      <td>North York</td>\n      <td>Humberlea,  Emery</td>\n    </tr>\n    <tr>\n      <th>58</th>\n      <td>M1N</td>\n      <td>Scarborough</td>\n      <td>Birch Cliff,  Cliffside West</td>\n    </tr>\n    <tr>\n      <th>59</th>\n      <td>M2N</td>\n      <td>North York</td>\n      <td>Willowdale South</td>\n    </tr>\n    <tr>\n      <th>60</th>\n      <td>M3N</td>\n      <td>North York</td>\n      <td>Downsview Northwest</td>\n    </tr>\n    <tr>\n      <th>61</th>\n      <td>M4N</td>\n      <td>Central Toronto</td>\n      <td>Lawrence Park</td>\n    </tr>\n    <tr>\n      <th>62</th>\n      <td>M5N</td>\n      <td>Central Toronto</td>\n      <td>Roselawn</td>\n    </tr>\n    <tr>\n      <th>63</th>\n      <td>M6N</td>\n      <td>York</td>\n      <td>Runnymede,  The Junction North</td>\n    </tr>\n    <tr>\n      <th>64</th>\n      <td>M9N</td>\n      <td>York</td>\n      <td>Weston</td>\n    </tr>\n    <tr>\n      <th>65</th>\n      <td>M1P</td>\n      <td>Scarborough</td>\n      <td>Dorset Park,  Wexford Heights,  Scarborough To...</td>\n    </tr>\n    <tr>\n      <th>66</th>\n      <td>M2P</td>\n      <td>North York</td>\n      <td>York Mills West</td>\n    </tr>\n    <tr>\n      <th>67</th>\n      <td>M4P</td>\n      <td>Central Toronto</td>\n      <td>Davisville North</td>\n    </tr>\n    <tr>\n      <th>68</th>\n      <td>M5P</td>\n      <td>Central Toronto</td>\n      <td>Forest Hill North &amp; West</td>\n    </tr>\n    <tr>\n      <th>69</th>\n      <td>M6P</td>\n      <td>West Toronto</td>\n      <td>High Park,  The Junction South</td>\n    </tr>\n    <tr>\n      <th>70</th>\n      <td>M9P</td>\n      <td>Etobicoke</td>\n      <td>Westmount</td>\n    </tr>\n    <tr>\n      <th>71</th>\n      <td>M1R</td>\n      <td>Scarborough</td>\n      <td>Wexford,  Maryvale</td>\n    </tr>\n    <tr>\n      <th>72</th>\n      <td>M2R</td>\n      <td>North York</td>\n      <td>Willowdale West</td>\n    </tr>\n    <tr>\n      <th>73</th>\n      <td>M4R</td>\n      <td>Central Toronto</td>\n      <td>North Toronto West</td>\n    </tr>\n    <tr>\n      <th>74</th>\n      <td>M5R</td>\n      <td>Central Toronto</td>\n      <td>The Annex,  North Midtown,  Yorkville</td>\n    </tr>\n    <tr>\n      <th>75</th>\n      <td>M6R</td>\n      <td>West Toronto</td>\n      <td>Parkdale,  Roncesvalles</td>\n    </tr>\n    <tr>\n      <th>76</th>\n      <td>M7R</td>\n      <td>MississaugaCanada Post Gateway Processing Centre</td>\n      <td>Enclave of L4W</td>\n    </tr>\n    <tr>\n      <th>77</th>\n      <td>M9R</td>\n      <td>Etobicoke</td>\n      <td>Kingsview Village,  St. Phillips,  Martin Grov...</td>\n    </tr>\n    <tr>\n      <th>78</th>\n      <td>M1S</td>\n      <td>Scarborough</td>\n      <td>Agincourt</td>\n    </tr>\n    <tr>\n      <th>79</th>\n      <td>M4S</td>\n      <td>Central Toronto</td>\n      <td>Davisville</td>\n    </tr>\n    <tr>\n      <th>80</th>\n      <td>M5S</td>\n      <td>Downtown Toronto</td>\n      <td>University of Toronto,  Harbord</td>\n    </tr>\n    <tr>\n      <th>81</th>\n      <td>M6S</td>\n      <td>West Toronto</td>\n      <td>Runnymede,  Swansea</td>\n    </tr>\n    <tr>\n      <th>82</th>\n      <td>M1T</td>\n      <td>Scarborough</td>\n      <td>Clarks Corners,  Tam O'Shanter,  Sullivan</td>\n    </tr>\n    <tr>\n      <th>83</th>\n      <td>M4T</td>\n      <td>Central Toronto</td>\n      <td>Moore Park,  Summerhill East</td>\n    </tr>\n    <tr>\n      <th>84</th>\n      <td>M5T</td>\n      <td>Downtown Toronto</td>\n      <td>Kensington Market,  Chinatown,  Grange Park</td>\n    </tr>\n    <tr>\n      <th>85</th>\n      <td>M1V</td>\n      <td>Scarborough</td>\n      <td>Milliken,  Agincourt North,  Steeles East,  L'...</td>\n    </tr>\n    <tr>\n      <th>86</th>\n      <td>M4V</td>\n      <td>Central Toronto</td>\n      <td>Summerhill West,  Rathnelly,  South Hill,  For...</td>\n    </tr>\n    <tr>\n      <th>87</th>\n      <td>M5V</td>\n      <td>Downtown Toronto</td>\n      <td>CN Tower,  King and Spadina,  Railway Lands,  ...</td>\n    </tr>\n    <tr>\n      <th>88</th>\n      <td>M8V</td>\n      <td>Etobicoke</td>\n      <td>New Toronto,  Mimico South,  Humber Bay Shores</td>\n    </tr>\n    <tr>\n      <th>89</th>\n      <td>M9V</td>\n      <td>Etobicoke</td>\n      <td>South Steeles,  Silverstone,  Humbergate,  Jam...</td>\n    </tr>\n    <tr>\n      <th>90</th>\n      <td>M1W</td>\n      <td>Scarborough</td>\n      <td>Steeles West,  L'Amoreaux West</td>\n    </tr>\n    <tr>\n      <th>91</th>\n      <td>M4W</td>\n      <td>Downtown Toronto</td>\n      <td>Rosedale</td>\n    </tr>\n    <tr>\n      <th>92</th>\n      <td>M5W</td>\n      <td>Downtown TorontoStn A PO Boxes25 The Esplanade</td>\n      <td>Enclave of M5E</td>\n    </tr>\n    <tr>\n      <th>93</th>\n      <td>M8W</td>\n      <td>Etobicoke</td>\n      <td>Alderwood,  Long Branch</td>\n    </tr>\n    <tr>\n      <th>94</th>\n      <td>M9W</td>\n      <td>EtobicokeNorthwest</td>\n      <td>Clairville,  Humberwood,  Woodbine Downs,  Wes...</td>\n    </tr>\n    <tr>\n      <th>95</th>\n      <td>M1X</td>\n      <td>Scarborough</td>\n      <td>Upper Rouge</td>\n    </tr>\n    <tr>\n      <th>96</th>\n      <td>M4X</td>\n      <td>Downtown Toronto</td>\n      <td>St. James Town,  Cabbagetown</td>\n    </tr>\n    <tr>\n      <th>97</th>\n      <td>M5X</td>\n      <td>Downtown Toronto</td>\n      <td>First Canadian Place,  Underground city</td>\n    </tr>\n    <tr>\n      <th>98</th>\n      <td>M8X</td>\n      <td>Etobicoke</td>\n      <td>The Kingsway,  Montgomery Road,  Old Mill North</td>\n    </tr>\n    <tr>\n      <th>99</th>\n      <td>M4Y</td>\n      <td>Downtown Toronto</td>\n      <td>Church and Wellesley</td>\n    </tr>\n    <tr>\n      <th>100</th>\n      <td>M7Y</td>\n      <td>East TorontoBusiness reply mail Processing Cen...</td>\n      <td>Enclave of M4L</td>\n    </tr>\n    <tr>\n      <th>101</th>\n      <td>M8Y</td>\n      <td>Etobicoke</td>\n      <td>Old Mill South,  King's Mill Park,  Sunnylea, ...</td>\n    </tr>\n    <tr>\n      <th>102</th>\n      <td>M8Z</td>\n      <td>Etobicoke</td>\n      <td>Mimico NW,  The Queensway West,  South of Bloo...</td>\n    </tr>\n  </tbody>\n</table>\n</div>"
     },
     "metadata": {},
     "execution_count": 116
    }
   ],
   "source": [
    "col1.reset_index(drop=True)\n",
    "col2.reset_index(drop=True)\n",
    "col3.reset_index(drop=True)\n",
    "toronto_df = pd.concat([col1, col2, col3], axis=1)\n",
    "toronto_df.columns = ['PostalCode','Borough','Neighborhood']\n",
    "print(toronto_df.shape)\n",
    "toronto_df"
   ]
  },
  {
   "source": [
    "### In this final touches in the 'Borough' columns I will be replacing the postal office centers with the borough's respective names. I'll use '.replace()' to complete this task. Also, I'll be adding spaces to some of the borough names where the spaces are missing."
   ],
   "cell_type": "markdown",
   "metadata": {}
  },
  {
   "cell_type": "code",
   "execution_count": 117,
   "metadata": {},
   "outputs": [],
   "source": [
    "toronto_df['Borough']=toronto_df['Borough'].replace({'Downtown TorontoStn A PO Boxes25 The Esplanade':'Downtown Toronto Stn A','East TorontoBusiness reply mail Processing Centre969 Eastern':'East Toronto Business','EtobicokeNorthwest':'Etobicoke Northwest','East YorkEast Toronto':'East York/East Toronto','MississaugaCanada Post Gateway Processing Centre': 'Mississauga'})"
   ]
  },
  {
   "source": [
    "### Drop any duplicates in the dataFrame because no one likes a copycat. Too many copycats out here."
   ],
   "cell_type": "markdown",
   "metadata": {}
  },
  {
   "cell_type": "code",
   "execution_count": 118,
   "metadata": {},
   "outputs": [],
   "source": [
    "toronto_df.drop_duplicates(inplace=True)"
   ]
  },
  {
   "source": [
    "### Finally, Display the dataFrame using .head()"
   ],
   "cell_type": "markdown",
   "metadata": {}
  },
  {
   "cell_type": "code",
   "execution_count": 119,
   "metadata": {},
   "outputs": [
    {
     "output_type": "execute_result",
     "data": {
      "text/plain": [
       "  PostalCode           Borough                       Neighborhood\n",
       "0        M3A        North York                          Parkwoods\n",
       "1        M4A        North York                   Victoria Village\n",
       "2        M5A  Downtown Toronto         Regent Park,  Harbourfront\n",
       "3        M6A        North York  Lawrence Manor,  Lawrence Heights\n",
       "4        M7A      Queen's Park      Ontario Provincial Government"
      ],
      "text/html": "<div>\n<style scoped>\n    .dataframe tbody tr th:only-of-type {\n        vertical-align: middle;\n    }\n\n    .dataframe tbody tr th {\n        vertical-align: top;\n    }\n\n    .dataframe thead th {\n        text-align: right;\n    }\n</style>\n<table border=\"1\" class=\"dataframe\">\n  <thead>\n    <tr style=\"text-align: right;\">\n      <th></th>\n      <th>PostalCode</th>\n      <th>Borough</th>\n      <th>Neighborhood</th>\n    </tr>\n  </thead>\n  <tbody>\n    <tr>\n      <th>0</th>\n      <td>M3A</td>\n      <td>North York</td>\n      <td>Parkwoods</td>\n    </tr>\n    <tr>\n      <th>1</th>\n      <td>M4A</td>\n      <td>North York</td>\n      <td>Victoria Village</td>\n    </tr>\n    <tr>\n      <th>2</th>\n      <td>M5A</td>\n      <td>Downtown Toronto</td>\n      <td>Regent Park,  Harbourfront</td>\n    </tr>\n    <tr>\n      <th>3</th>\n      <td>M6A</td>\n      <td>North York</td>\n      <td>Lawrence Manor,  Lawrence Heights</td>\n    </tr>\n    <tr>\n      <th>4</th>\n      <td>M7A</td>\n      <td>Queen's Park</td>\n      <td>Ontario Provincial Government</td>\n    </tr>\n  </tbody>\n</table>\n</div>"
     },
     "metadata": {},
     "execution_count": 119
    }
   ],
   "source": [
    "toronto_df.head()"
   ]
  },
  {
   "source": [
    "### In this 2nd step of the assignment I'll be retrieving Toronto's neighborhoods coordinates using their respective zip codes.\n",
    "\n",
    "In the cell below I'll be pip installing and importing pgeocode to this notebook.  \n",
    "Next I will use .tolist() to convert the ['PostalCode'] column from the dataFrame to a list and store it in a new variable called 'postal_code'.  \n",
    "Afterwards I'll create a geocode object with the parameter set to ('ca') for Canada and store it to a variable called 'nomi'.  \n",
    "Now I'll use .query_postal_code() and feed the variable 'postal_code' which it contains the list I created previously with the column 'PostalCode'.  \n",
    "Finally I'll store all coordinate results to a variable called 'latitude' and 'longitude'.  "
   ],
   "cell_type": "markdown",
   "metadata": {}
  },
  {
   "cell_type": "code",
   "execution_count": 129,
   "metadata": {},
   "outputs": [],
   "source": [
    "#!pip install pgeocode\n",
    "import pgeocode\n",
    "\n",
    "postal_code = toronto_df['PostalCode'].tolist()\n",
    "\n",
    "nomi = pgeocode.Nominatim('ca')\n",
    "location = nomi.query_postal_code(postal_code)\n",
    "latitude = location.latitude\n",
    "longitude = location.longitude"
   ]
  },
  {
   "source": [
    "### In the cell below I'll convert the coordinate results to a .dataFrame(), .tranpose(), convert the dataFrame values to float using .astype() and finally store it in a variable called 'coordinates'."
   ],
   "cell_type": "markdown",
   "metadata": {}
  },
  {
   "cell_type": "code",
   "execution_count": 130,
   "metadata": {},
   "outputs": [
    {
     "output_type": "execute_result",
     "data": {
      "text/plain": [
       "   latitude  longitude\n",
       "0   43.7545   -79.3300\n",
       "1   43.7276   -79.3148\n",
       "2   43.6555   -79.3626\n",
       "3   43.7223   -79.4504\n",
       "4   43.6641   -79.3889"
      ],
      "text/html": "<div>\n<style scoped>\n    .dataframe tbody tr th:only-of-type {\n        vertical-align: middle;\n    }\n\n    .dataframe tbody tr th {\n        vertical-align: top;\n    }\n\n    .dataframe thead th {\n        text-align: right;\n    }\n</style>\n<table border=\"1\" class=\"dataframe\">\n  <thead>\n    <tr style=\"text-align: right;\">\n      <th></th>\n      <th>latitude</th>\n      <th>longitude</th>\n    </tr>\n  </thead>\n  <tbody>\n    <tr>\n      <th>0</th>\n      <td>43.7545</td>\n      <td>-79.3300</td>\n    </tr>\n    <tr>\n      <th>1</th>\n      <td>43.7276</td>\n      <td>-79.3148</td>\n    </tr>\n    <tr>\n      <th>2</th>\n      <td>43.6555</td>\n      <td>-79.3626</td>\n    </tr>\n    <tr>\n      <th>3</th>\n      <td>43.7223</td>\n      <td>-79.4504</td>\n    </tr>\n    <tr>\n      <th>4</th>\n      <td>43.6641</td>\n      <td>-79.3889</td>\n    </tr>\n  </tbody>\n</table>\n</div>"
     },
     "metadata": {},
     "execution_count": 130
    }
   ],
   "source": [
    "coordinates = pd.DataFrame([latitude,longitude]).transpose().astype(float)\n",
    "coordinates.head()"
   ]
  },
  {
   "source": [
    "### In this step I'll merge the dataFrame 'toronto_df' and 'coordinates' using .concat() and setting the parameter 'axis' to '1' so they merge horizontally.\n",
    "The result is a new dataframe called 'new_toronto_df'."
   ],
   "cell_type": "markdown",
   "metadata": {}
  },
  {
   "cell_type": "code",
   "execution_count": 133,
   "metadata": {},
   "outputs": [
    {
     "output_type": "execute_result",
     "data": {
      "text/plain": [
       "    PostalCode                 Borough  \\\n",
       "0          M3A              North York   \n",
       "1          M4A              North York   \n",
       "2          M5A        Downtown Toronto   \n",
       "3          M6A              North York   \n",
       "4          M7A            Queen's Park   \n",
       "5          M9A               Etobicoke   \n",
       "6          M1B             Scarborough   \n",
       "7          M3B              North York   \n",
       "8          M4B               East York   \n",
       "9          M5B        Downtown Toronto   \n",
       "10         M6B              North York   \n",
       "11         M9B               Etobicoke   \n",
       "12         M1C             Scarborough   \n",
       "13         M3C              North York   \n",
       "14         M4C               East York   \n",
       "15         M5C        Downtown Toronto   \n",
       "16         M6C                    York   \n",
       "17         M9C               Etobicoke   \n",
       "18         M1E             Scarborough   \n",
       "19         M4E            East Toronto   \n",
       "20         M5E        Downtown Toronto   \n",
       "21         M6E                    York   \n",
       "22         M1G             Scarborough   \n",
       "23         M4G               East York   \n",
       "24         M5G        Downtown Toronto   \n",
       "25         M6G        Downtown Toronto   \n",
       "26         M1H             Scarborough   \n",
       "27         M2H              North York   \n",
       "28         M3H              North York   \n",
       "29         M4H               East York   \n",
       "30         M5H        Downtown Toronto   \n",
       "31         M6H            West Toronto   \n",
       "32         M1J             Scarborough   \n",
       "33         M2J              North York   \n",
       "34         M3J              North York   \n",
       "35         M4J  East York/East Toronto   \n",
       "36         M5J        Downtown Toronto   \n",
       "37         M6J            West Toronto   \n",
       "38         M1K             Scarborough   \n",
       "39         M2K              North York   \n",
       "40         M3K              North York   \n",
       "41         M4K            East Toronto   \n",
       "42         M5K        Downtown Toronto   \n",
       "43         M6K            West Toronto   \n",
       "44         M1L             Scarborough   \n",
       "45         M2L              North York   \n",
       "46         M3L              North York   \n",
       "47         M4L            East Toronto   \n",
       "48         M5L        Downtown Toronto   \n",
       "49         M6L              North York   \n",
       "50         M9L              North York   \n",
       "51         M1M             Scarborough   \n",
       "52         M2M              North York   \n",
       "53         M3M              North York   \n",
       "54         M4M            East Toronto   \n",
       "55         M5M              North York   \n",
       "56         M6M                    York   \n",
       "57         M9M              North York   \n",
       "58         M1N             Scarborough   \n",
       "59         M2N              North York   \n",
       "60         M3N              North York   \n",
       "61         M4N         Central Toronto   \n",
       "62         M5N         Central Toronto   \n",
       "63         M6N                    York   \n",
       "64         M9N                    York   \n",
       "65         M1P             Scarborough   \n",
       "66         M2P              North York   \n",
       "67         M4P         Central Toronto   \n",
       "68         M5P         Central Toronto   \n",
       "69         M6P            West Toronto   \n",
       "70         M9P               Etobicoke   \n",
       "71         M1R             Scarborough   \n",
       "72         M2R              North York   \n",
       "73         M4R         Central Toronto   \n",
       "74         M5R         Central Toronto   \n",
       "75         M6R            West Toronto   \n",
       "76         M7R             Mississauga   \n",
       "77         M9R               Etobicoke   \n",
       "78         M1S             Scarborough   \n",
       "79         M4S         Central Toronto   \n",
       "80         M5S        Downtown Toronto   \n",
       "81         M6S            West Toronto   \n",
       "82         M1T             Scarborough   \n",
       "83         M4T         Central Toronto   \n",
       "84         M5T        Downtown Toronto   \n",
       "85         M1V             Scarborough   \n",
       "86         M4V         Central Toronto   \n",
       "87         M5V        Downtown Toronto   \n",
       "88         M8V               Etobicoke   \n",
       "89         M9V               Etobicoke   \n",
       "90         M1W             Scarborough   \n",
       "91         M4W        Downtown Toronto   \n",
       "92         M5W  Downtown Toronto Stn A   \n",
       "93         M8W               Etobicoke   \n",
       "94         M9W     Etobicoke Northwest   \n",
       "95         M1X             Scarborough   \n",
       "96         M4X        Downtown Toronto   \n",
       "97         M5X        Downtown Toronto   \n",
       "98         M8X               Etobicoke   \n",
       "99         M4Y        Downtown Toronto   \n",
       "100        M7Y   East Toronto Business   \n",
       "101        M8Y               Etobicoke   \n",
       "102        M8Z               Etobicoke   \n",
       "\n",
       "                                          Neighborhood  latitude  longitude  \n",
       "0                                            Parkwoods   43.7545   -79.3300  \n",
       "1                                     Victoria Village   43.7276   -79.3148  \n",
       "2                           Regent Park,  Harbourfront   43.6555   -79.3626  \n",
       "3                    Lawrence Manor,  Lawrence Heights   43.7223   -79.4504  \n",
       "4                        Ontario Provincial Government   43.6641   -79.3889  \n",
       "5                                     Islington Avenue   43.6662   -79.5282  \n",
       "6                                      Malvern,  Rouge   43.8113   -79.1930  \n",
       "7                                      Don Mills North   43.7450   -79.3590  \n",
       "8                     Parkview Hill,  Woodbine Gardens   43.7063   -79.3094  \n",
       "9                             Garden District, Ryerson   43.6572   -79.3783  \n",
       "10                                           Glencairn   43.7081   -79.4479  \n",
       "11   West Deane Park,  Princess Gardens,  Martin Gr...   43.6505   -79.5517  \n",
       "12            Rouge Hill,  Port Union,  Highland Creek   43.7878   -79.1564  \n",
       "13                     Don Mills South(Flemingdon Park   43.7334   -79.3329  \n",
       "14                                    Woodbine Heights   43.6913   -79.3116  \n",
       "15                                      St. James Town   43.6513   -79.3756  \n",
       "16                                  Humewood-Cedarvale   43.6915   -79.4307  \n",
       "17   Eringate,  Bloordale Gardens,  Old Burnhamthor...   43.6437   -79.5767  \n",
       "18                 Guildwood,  Morningside,  West Hill   43.7678   -79.1866  \n",
       "19                                         The Beaches   43.6784   -79.2941  \n",
       "20                                         Berczy Park   43.6456   -79.3754  \n",
       "21                                 Caledonia-Fairbanks   43.6889   -79.4507  \n",
       "22                                              Woburn   43.7712   -79.2144  \n",
       "23                                             Leaside   43.7124   -79.3644  \n",
       "24                                  Central Bay Street   43.6564   -79.3860  \n",
       "25                                            Christie   43.6683   -79.4205  \n",
       "26                                           Cedarbrae   43.7686   -79.2389  \n",
       "27                                   Hillcrest Village   43.8015   -79.3577  \n",
       "28   Bathurst Manor,  Wilson Heights,  Downsview North   43.7535   -79.4472  \n",
       "29                                    Thorncliffe Park   43.7059   -79.3464  \n",
       "30                          Richmond,  Adelaide,  King   43.6496   -79.3833  \n",
       "31                       Dufferin,  Dovercourt Village   43.6655   -79.4378  \n",
       "32                                 Scarborough Village   43.7464   -79.2323  \n",
       "33                      Fairview,  Henry Farm,  Oriole   43.7801   -79.3479  \n",
       "34                    Northwood Park,  York University   43.7694   -79.4921  \n",
       "35                                   The Danforth East   43.6872   -79.3368  \n",
       "36   Harbourfront East,  Union Station,  Toronto Is...   43.6230   -79.3936  \n",
       "37                           Little Portugal,  Trinity   43.6480   -79.4177  \n",
       "38       Kennedy Park,  Ionview,  East Birchmount Park   43.7298   -79.2639  \n",
       "39                                     Bayview Village   43.7797   -79.3813  \n",
       "40                         Downsview East (CFB Toronto   43.7390   -79.4692  \n",
       "41                       The Danforth West,  Riverdale   43.6803   -79.3538  \n",
       "42           Toronto Dominion Centre,  Design Exchange   43.6469   -79.3823  \n",
       "43      Brockton,  Parkdale Village,  Exhibition Place   43.6383   -79.4301  \n",
       "44                   Golden Mile,  Clairlea,  Oakridge   43.7122   -79.2843  \n",
       "45                           York Mills,  Silver Hills   43.7547   -79.3764  \n",
       "46                                      Downsview West   43.7334   -79.5116  \n",
       "47                     India Bazaar,  The Beaches West   43.6693   -79.3155  \n",
       "48                     Commerce Court,  Victoria Hotel   43.6492   -79.3823  \n",
       "49          North Park,  Maple Leaf Park,  Upwood Park   43.7137   -79.4869  \n",
       "50                                       Humber Summit   43.7598   -79.5565  \n",
       "51   Cliffside,  Cliffcrest,  Scarborough Village West   43.7247   -79.2312  \n",
       "52                            Willowdale,  Newtonbrook   43.7915   -79.4103  \n",
       "53                                   Downsview Central   43.7319   -79.4928  \n",
       "54                                     Studio District   43.6561   -79.3406  \n",
       "55                  Bedford Park,  Lawrence Manor East   43.7335   -79.4177  \n",
       "56   Del Ray,  Mount Dennis,  Keelsdale and Silvert...   43.6934   -79.4857  \n",
       "57                                   Humberlea,  Emery   43.7366   -79.5401  \n",
       "58                        Birch Cliff,  Cliffside West   43.6952   -79.2646  \n",
       "59                                    Willowdale South   43.7673   -79.4111  \n",
       "60                                 Downsview Northwest   43.7568   -79.5210  \n",
       "61                                       Lawrence Park   43.7301   -79.3935  \n",
       "62                                            Roselawn   43.7113   -79.4195  \n",
       "63                      Runnymede,  The Junction North   43.6748   -79.4839  \n",
       "64                                              Weston   43.7068   -79.5170  \n",
       "65   Dorset Park,  Wexford Heights,  Scarborough To...   43.7612   -79.2707  \n",
       "66                                     York Mills West   43.7500   -79.3978  \n",
       "67                                    Davisville North   43.7135   -79.3887  \n",
       "68                            Forest Hill North & West   43.6966   -79.4120  \n",
       "69                      High Park,  The Junction South   43.6605   -79.4633  \n",
       "70                                           Westmount   43.6949   -79.5323  \n",
       "71                                  Wexford,  Maryvale   43.7507   -79.3003  \n",
       "72                                     Willowdale West   43.7786   -79.4450  \n",
       "73                                  North Toronto West   43.7143   -79.4065  \n",
       "74               The Annex,  North Midtown,  Yorkville   43.6736   -79.4035  \n",
       "75                             Parkdale,  Roncesvalles   43.6469   -79.4521  \n",
       "76                                      Enclave of L4W       NaN        NaN  \n",
       "77   Kingsview Village,  St. Phillips,  Martin Grov...   43.6898   -79.5582  \n",
       "78                                           Agincourt   43.7946   -79.2644  \n",
       "79                                          Davisville   43.7020   -79.3853  \n",
       "80                     University of Toronto,  Harbord   43.6629   -79.3987  \n",
       "81                                 Runnymede,  Swansea   43.6512   -79.4828  \n",
       "82           Clarks Corners,  Tam O'Shanter,  Sullivan   43.7812   -79.3036  \n",
       "83                        Moore Park,  Summerhill East   43.6899   -79.3853  \n",
       "84         Kensington Market,  Chinatown,  Grange Park   43.6541   -79.3978  \n",
       "85   Milliken,  Agincourt North,  Steeles East,  L'...   43.8177   -79.2819  \n",
       "86   Summerhill West,  Rathnelly,  South Hill,  For...   43.6861   -79.4025  \n",
       "87   CN Tower,  King and Spadina,  Railway Lands,  ...   43.6404   -79.3995  \n",
       "88      New Toronto,  Mimico South,  Humber Bay Shores   43.6075   -79.5013  \n",
       "89   South Steeles,  Silverstone,  Humbergate,  Jam...   43.7432   -79.5876  \n",
       "90                      Steeles West,  L'Amoreaux West   43.8016   -79.3216  \n",
       "91                                            Rosedale   43.6827   -79.3730  \n",
       "92                                      Enclave of M5E   43.6437   -79.3787  \n",
       "93                             Alderwood,  Long Branch   43.6021   -79.5402  \n",
       "94   Clairville,  Humberwood,  Woodbine Downs,  Wes...   43.7144   -79.5909  \n",
       "95                                         Upper Rouge   43.8340   -79.2069  \n",
       "96                        St. James Town,  Cabbagetown   43.6684   -79.3689  \n",
       "97             First Canadian Place,  Underground city   43.6492   -79.3823  \n",
       "98     The Kingsway,  Montgomery Road,  Old Mill North   43.6518   -79.5076  \n",
       "99                                Church and Wellesley   43.6656   -79.3830  \n",
       "100                                     Enclave of M4L   43.7804   -79.2505  \n",
       "101  Old Mill South,  King's Mill Park,  Sunnylea, ...   43.6325   -79.4939  \n",
       "102  Mimico NW,  The Queensway West,  South of Bloo...   43.6256   -79.5231  "
      ],
      "text/html": "<div>\n<style scoped>\n    .dataframe tbody tr th:only-of-type {\n        vertical-align: middle;\n    }\n\n    .dataframe tbody tr th {\n        vertical-align: top;\n    }\n\n    .dataframe thead th {\n        text-align: right;\n    }\n</style>\n<table border=\"1\" class=\"dataframe\">\n  <thead>\n    <tr style=\"text-align: right;\">\n      <th></th>\n      <th>PostalCode</th>\n      <th>Borough</th>\n      <th>Neighborhood</th>\n      <th>latitude</th>\n      <th>longitude</th>\n    </tr>\n  </thead>\n  <tbody>\n    <tr>\n      <th>0</th>\n      <td>M3A</td>\n      <td>North York</td>\n      <td>Parkwoods</td>\n      <td>43.7545</td>\n      <td>-79.3300</td>\n    </tr>\n    <tr>\n      <th>1</th>\n      <td>M4A</td>\n      <td>North York</td>\n      <td>Victoria Village</td>\n      <td>43.7276</td>\n      <td>-79.3148</td>\n    </tr>\n    <tr>\n      <th>2</th>\n      <td>M5A</td>\n      <td>Downtown Toronto</td>\n      <td>Regent Park,  Harbourfront</td>\n      <td>43.6555</td>\n      <td>-79.3626</td>\n    </tr>\n    <tr>\n      <th>3</th>\n      <td>M6A</td>\n      <td>North York</td>\n      <td>Lawrence Manor,  Lawrence Heights</td>\n      <td>43.7223</td>\n      <td>-79.4504</td>\n    </tr>\n    <tr>\n      <th>4</th>\n      <td>M7A</td>\n      <td>Queen's Park</td>\n      <td>Ontario Provincial Government</td>\n      <td>43.6641</td>\n      <td>-79.3889</td>\n    </tr>\n    <tr>\n      <th>5</th>\n      <td>M9A</td>\n      <td>Etobicoke</td>\n      <td>Islington Avenue</td>\n      <td>43.6662</td>\n      <td>-79.5282</td>\n    </tr>\n    <tr>\n      <th>6</th>\n      <td>M1B</td>\n      <td>Scarborough</td>\n      <td>Malvern,  Rouge</td>\n      <td>43.8113</td>\n      <td>-79.1930</td>\n    </tr>\n    <tr>\n      <th>7</th>\n      <td>M3B</td>\n      <td>North York</td>\n      <td>Don Mills North</td>\n      <td>43.7450</td>\n      <td>-79.3590</td>\n    </tr>\n    <tr>\n      <th>8</th>\n      <td>M4B</td>\n      <td>East York</td>\n      <td>Parkview Hill,  Woodbine Gardens</td>\n      <td>43.7063</td>\n      <td>-79.3094</td>\n    </tr>\n    <tr>\n      <th>9</th>\n      <td>M5B</td>\n      <td>Downtown Toronto</td>\n      <td>Garden District, Ryerson</td>\n      <td>43.6572</td>\n      <td>-79.3783</td>\n    </tr>\n    <tr>\n      <th>10</th>\n      <td>M6B</td>\n      <td>North York</td>\n      <td>Glencairn</td>\n      <td>43.7081</td>\n      <td>-79.4479</td>\n    </tr>\n    <tr>\n      <th>11</th>\n      <td>M9B</td>\n      <td>Etobicoke</td>\n      <td>West Deane Park,  Princess Gardens,  Martin Gr...</td>\n      <td>43.6505</td>\n      <td>-79.5517</td>\n    </tr>\n    <tr>\n      <th>12</th>\n      <td>M1C</td>\n      <td>Scarborough</td>\n      <td>Rouge Hill,  Port Union,  Highland Creek</td>\n      <td>43.7878</td>\n      <td>-79.1564</td>\n    </tr>\n    <tr>\n      <th>13</th>\n      <td>M3C</td>\n      <td>North York</td>\n      <td>Don Mills South(Flemingdon Park</td>\n      <td>43.7334</td>\n      <td>-79.3329</td>\n    </tr>\n    <tr>\n      <th>14</th>\n      <td>M4C</td>\n      <td>East York</td>\n      <td>Woodbine Heights</td>\n      <td>43.6913</td>\n      <td>-79.3116</td>\n    </tr>\n    <tr>\n      <th>15</th>\n      <td>M5C</td>\n      <td>Downtown Toronto</td>\n      <td>St. James Town</td>\n      <td>43.6513</td>\n      <td>-79.3756</td>\n    </tr>\n    <tr>\n      <th>16</th>\n      <td>M6C</td>\n      <td>York</td>\n      <td>Humewood-Cedarvale</td>\n      <td>43.6915</td>\n      <td>-79.4307</td>\n    </tr>\n    <tr>\n      <th>17</th>\n      <td>M9C</td>\n      <td>Etobicoke</td>\n      <td>Eringate,  Bloordale Gardens,  Old Burnhamthor...</td>\n      <td>43.6437</td>\n      <td>-79.5767</td>\n    </tr>\n    <tr>\n      <th>18</th>\n      <td>M1E</td>\n      <td>Scarborough</td>\n      <td>Guildwood,  Morningside,  West Hill</td>\n      <td>43.7678</td>\n      <td>-79.1866</td>\n    </tr>\n    <tr>\n      <th>19</th>\n      <td>M4E</td>\n      <td>East Toronto</td>\n      <td>The Beaches</td>\n      <td>43.6784</td>\n      <td>-79.2941</td>\n    </tr>\n    <tr>\n      <th>20</th>\n      <td>M5E</td>\n      <td>Downtown Toronto</td>\n      <td>Berczy Park</td>\n      <td>43.6456</td>\n      <td>-79.3754</td>\n    </tr>\n    <tr>\n      <th>21</th>\n      <td>M6E</td>\n      <td>York</td>\n      <td>Caledonia-Fairbanks</td>\n      <td>43.6889</td>\n      <td>-79.4507</td>\n    </tr>\n    <tr>\n      <th>22</th>\n      <td>M1G</td>\n      <td>Scarborough</td>\n      <td>Woburn</td>\n      <td>43.7712</td>\n      <td>-79.2144</td>\n    </tr>\n    <tr>\n      <th>23</th>\n      <td>M4G</td>\n      <td>East York</td>\n      <td>Leaside</td>\n      <td>43.7124</td>\n      <td>-79.3644</td>\n    </tr>\n    <tr>\n      <th>24</th>\n      <td>M5G</td>\n      <td>Downtown Toronto</td>\n      <td>Central Bay Street</td>\n      <td>43.6564</td>\n      <td>-79.3860</td>\n    </tr>\n    <tr>\n      <th>25</th>\n      <td>M6G</td>\n      <td>Downtown Toronto</td>\n      <td>Christie</td>\n      <td>43.6683</td>\n      <td>-79.4205</td>\n    </tr>\n    <tr>\n      <th>26</th>\n      <td>M1H</td>\n      <td>Scarborough</td>\n      <td>Cedarbrae</td>\n      <td>43.7686</td>\n      <td>-79.2389</td>\n    </tr>\n    <tr>\n      <th>27</th>\n      <td>M2H</td>\n      <td>North York</td>\n      <td>Hillcrest Village</td>\n      <td>43.8015</td>\n      <td>-79.3577</td>\n    </tr>\n    <tr>\n      <th>28</th>\n      <td>M3H</td>\n      <td>North York</td>\n      <td>Bathurst Manor,  Wilson Heights,  Downsview North</td>\n      <td>43.7535</td>\n      <td>-79.4472</td>\n    </tr>\n    <tr>\n      <th>29</th>\n      <td>M4H</td>\n      <td>East York</td>\n      <td>Thorncliffe Park</td>\n      <td>43.7059</td>\n      <td>-79.3464</td>\n    </tr>\n    <tr>\n      <th>30</th>\n      <td>M5H</td>\n      <td>Downtown Toronto</td>\n      <td>Richmond,  Adelaide,  King</td>\n      <td>43.6496</td>\n      <td>-79.3833</td>\n    </tr>\n    <tr>\n      <th>31</th>\n      <td>M6H</td>\n      <td>West Toronto</td>\n      <td>Dufferin,  Dovercourt Village</td>\n      <td>43.6655</td>\n      <td>-79.4378</td>\n    </tr>\n    <tr>\n      <th>32</th>\n      <td>M1J</td>\n      <td>Scarborough</td>\n      <td>Scarborough Village</td>\n      <td>43.7464</td>\n      <td>-79.2323</td>\n    </tr>\n    <tr>\n      <th>33</th>\n      <td>M2J</td>\n      <td>North York</td>\n      <td>Fairview,  Henry Farm,  Oriole</td>\n      <td>43.7801</td>\n      <td>-79.3479</td>\n    </tr>\n    <tr>\n      <th>34</th>\n      <td>M3J</td>\n      <td>North York</td>\n      <td>Northwood Park,  York University</td>\n      <td>43.7694</td>\n      <td>-79.4921</td>\n    </tr>\n    <tr>\n      <th>35</th>\n      <td>M4J</td>\n      <td>East York/East Toronto</td>\n      <td>The Danforth East</td>\n      <td>43.6872</td>\n      <td>-79.3368</td>\n    </tr>\n    <tr>\n      <th>36</th>\n      <td>M5J</td>\n      <td>Downtown Toronto</td>\n      <td>Harbourfront East,  Union Station,  Toronto Is...</td>\n      <td>43.6230</td>\n      <td>-79.3936</td>\n    </tr>\n    <tr>\n      <th>37</th>\n      <td>M6J</td>\n      <td>West Toronto</td>\n      <td>Little Portugal,  Trinity</td>\n      <td>43.6480</td>\n      <td>-79.4177</td>\n    </tr>\n    <tr>\n      <th>38</th>\n      <td>M1K</td>\n      <td>Scarborough</td>\n      <td>Kennedy Park,  Ionview,  East Birchmount Park</td>\n      <td>43.7298</td>\n      <td>-79.2639</td>\n    </tr>\n    <tr>\n      <th>39</th>\n      <td>M2K</td>\n      <td>North York</td>\n      <td>Bayview Village</td>\n      <td>43.7797</td>\n      <td>-79.3813</td>\n    </tr>\n    <tr>\n      <th>40</th>\n      <td>M3K</td>\n      <td>North York</td>\n      <td>Downsview East (CFB Toronto</td>\n      <td>43.7390</td>\n      <td>-79.4692</td>\n    </tr>\n    <tr>\n      <th>41</th>\n      <td>M4K</td>\n      <td>East Toronto</td>\n      <td>The Danforth West,  Riverdale</td>\n      <td>43.6803</td>\n      <td>-79.3538</td>\n    </tr>\n    <tr>\n      <th>42</th>\n      <td>M5K</td>\n      <td>Downtown Toronto</td>\n      <td>Toronto Dominion Centre,  Design Exchange</td>\n      <td>43.6469</td>\n      <td>-79.3823</td>\n    </tr>\n    <tr>\n      <th>43</th>\n      <td>M6K</td>\n      <td>West Toronto</td>\n      <td>Brockton,  Parkdale Village,  Exhibition Place</td>\n      <td>43.6383</td>\n      <td>-79.4301</td>\n    </tr>\n    <tr>\n      <th>44</th>\n      <td>M1L</td>\n      <td>Scarborough</td>\n      <td>Golden Mile,  Clairlea,  Oakridge</td>\n      <td>43.7122</td>\n      <td>-79.2843</td>\n    </tr>\n    <tr>\n      <th>45</th>\n      <td>M2L</td>\n      <td>North York</td>\n      <td>York Mills,  Silver Hills</td>\n      <td>43.7547</td>\n      <td>-79.3764</td>\n    </tr>\n    <tr>\n      <th>46</th>\n      <td>M3L</td>\n      <td>North York</td>\n      <td>Downsview West</td>\n      <td>43.7334</td>\n      <td>-79.5116</td>\n    </tr>\n    <tr>\n      <th>47</th>\n      <td>M4L</td>\n      <td>East Toronto</td>\n      <td>India Bazaar,  The Beaches West</td>\n      <td>43.6693</td>\n      <td>-79.3155</td>\n    </tr>\n    <tr>\n      <th>48</th>\n      <td>M5L</td>\n      <td>Downtown Toronto</td>\n      <td>Commerce Court,  Victoria Hotel</td>\n      <td>43.6492</td>\n      <td>-79.3823</td>\n    </tr>\n    <tr>\n      <th>49</th>\n      <td>M6L</td>\n      <td>North York</td>\n      <td>North Park,  Maple Leaf Park,  Upwood Park</td>\n      <td>43.7137</td>\n      <td>-79.4869</td>\n    </tr>\n    <tr>\n      <th>50</th>\n      <td>M9L</td>\n      <td>North York</td>\n      <td>Humber Summit</td>\n      <td>43.7598</td>\n      <td>-79.5565</td>\n    </tr>\n    <tr>\n      <th>51</th>\n      <td>M1M</td>\n      <td>Scarborough</td>\n      <td>Cliffside,  Cliffcrest,  Scarborough Village West</td>\n      <td>43.7247</td>\n      <td>-79.2312</td>\n    </tr>\n    <tr>\n      <th>52</th>\n      <td>M2M</td>\n      <td>North York</td>\n      <td>Willowdale,  Newtonbrook</td>\n      <td>43.7915</td>\n      <td>-79.4103</td>\n    </tr>\n    <tr>\n      <th>53</th>\n      <td>M3M</td>\n      <td>North York</td>\n      <td>Downsview Central</td>\n      <td>43.7319</td>\n      <td>-79.4928</td>\n    </tr>\n    <tr>\n      <th>54</th>\n      <td>M4M</td>\n      <td>East Toronto</td>\n      <td>Studio District</td>\n      <td>43.6561</td>\n      <td>-79.3406</td>\n    </tr>\n    <tr>\n      <th>55</th>\n      <td>M5M</td>\n      <td>North York</td>\n      <td>Bedford Park,  Lawrence Manor East</td>\n      <td>43.7335</td>\n      <td>-79.4177</td>\n    </tr>\n    <tr>\n      <th>56</th>\n      <td>M6M</td>\n      <td>York</td>\n      <td>Del Ray,  Mount Dennis,  Keelsdale and Silvert...</td>\n      <td>43.6934</td>\n      <td>-79.4857</td>\n    </tr>\n    <tr>\n      <th>57</th>\n      <td>M9M</td>\n      <td>North York</td>\n      <td>Humberlea,  Emery</td>\n      <td>43.7366</td>\n      <td>-79.5401</td>\n    </tr>\n    <tr>\n      <th>58</th>\n      <td>M1N</td>\n      <td>Scarborough</td>\n      <td>Birch Cliff,  Cliffside West</td>\n      <td>43.6952</td>\n      <td>-79.2646</td>\n    </tr>\n    <tr>\n      <th>59</th>\n      <td>M2N</td>\n      <td>North York</td>\n      <td>Willowdale South</td>\n      <td>43.7673</td>\n      <td>-79.4111</td>\n    </tr>\n    <tr>\n      <th>60</th>\n      <td>M3N</td>\n      <td>North York</td>\n      <td>Downsview Northwest</td>\n      <td>43.7568</td>\n      <td>-79.5210</td>\n    </tr>\n    <tr>\n      <th>61</th>\n      <td>M4N</td>\n      <td>Central Toronto</td>\n      <td>Lawrence Park</td>\n      <td>43.7301</td>\n      <td>-79.3935</td>\n    </tr>\n    <tr>\n      <th>62</th>\n      <td>M5N</td>\n      <td>Central Toronto</td>\n      <td>Roselawn</td>\n      <td>43.7113</td>\n      <td>-79.4195</td>\n    </tr>\n    <tr>\n      <th>63</th>\n      <td>M6N</td>\n      <td>York</td>\n      <td>Runnymede,  The Junction North</td>\n      <td>43.6748</td>\n      <td>-79.4839</td>\n    </tr>\n    <tr>\n      <th>64</th>\n      <td>M9N</td>\n      <td>York</td>\n      <td>Weston</td>\n      <td>43.7068</td>\n      <td>-79.5170</td>\n    </tr>\n    <tr>\n      <th>65</th>\n      <td>M1P</td>\n      <td>Scarborough</td>\n      <td>Dorset Park,  Wexford Heights,  Scarborough To...</td>\n      <td>43.7612</td>\n      <td>-79.2707</td>\n    </tr>\n    <tr>\n      <th>66</th>\n      <td>M2P</td>\n      <td>North York</td>\n      <td>York Mills West</td>\n      <td>43.7500</td>\n      <td>-79.3978</td>\n    </tr>\n    <tr>\n      <th>67</th>\n      <td>M4P</td>\n      <td>Central Toronto</td>\n      <td>Davisville North</td>\n      <td>43.7135</td>\n      <td>-79.3887</td>\n    </tr>\n    <tr>\n      <th>68</th>\n      <td>M5P</td>\n      <td>Central Toronto</td>\n      <td>Forest Hill North &amp; West</td>\n      <td>43.6966</td>\n      <td>-79.4120</td>\n    </tr>\n    <tr>\n      <th>69</th>\n      <td>M6P</td>\n      <td>West Toronto</td>\n      <td>High Park,  The Junction South</td>\n      <td>43.6605</td>\n      <td>-79.4633</td>\n    </tr>\n    <tr>\n      <th>70</th>\n      <td>M9P</td>\n      <td>Etobicoke</td>\n      <td>Westmount</td>\n      <td>43.6949</td>\n      <td>-79.5323</td>\n    </tr>\n    <tr>\n      <th>71</th>\n      <td>M1R</td>\n      <td>Scarborough</td>\n      <td>Wexford,  Maryvale</td>\n      <td>43.7507</td>\n      <td>-79.3003</td>\n    </tr>\n    <tr>\n      <th>72</th>\n      <td>M2R</td>\n      <td>North York</td>\n      <td>Willowdale West</td>\n      <td>43.7786</td>\n      <td>-79.4450</td>\n    </tr>\n    <tr>\n      <th>73</th>\n      <td>M4R</td>\n      <td>Central Toronto</td>\n      <td>North Toronto West</td>\n      <td>43.7143</td>\n      <td>-79.4065</td>\n    </tr>\n    <tr>\n      <th>74</th>\n      <td>M5R</td>\n      <td>Central Toronto</td>\n      <td>The Annex,  North Midtown,  Yorkville</td>\n      <td>43.6736</td>\n      <td>-79.4035</td>\n    </tr>\n    <tr>\n      <th>75</th>\n      <td>M6R</td>\n      <td>West Toronto</td>\n      <td>Parkdale,  Roncesvalles</td>\n      <td>43.6469</td>\n      <td>-79.4521</td>\n    </tr>\n    <tr>\n      <th>76</th>\n      <td>M7R</td>\n      <td>Mississauga</td>\n      <td>Enclave of L4W</td>\n      <td>NaN</td>\n      <td>NaN</td>\n    </tr>\n    <tr>\n      <th>77</th>\n      <td>M9R</td>\n      <td>Etobicoke</td>\n      <td>Kingsview Village,  St. Phillips,  Martin Grov...</td>\n      <td>43.6898</td>\n      <td>-79.5582</td>\n    </tr>\n    <tr>\n      <th>78</th>\n      <td>M1S</td>\n      <td>Scarborough</td>\n      <td>Agincourt</td>\n      <td>43.7946</td>\n      <td>-79.2644</td>\n    </tr>\n    <tr>\n      <th>79</th>\n      <td>M4S</td>\n      <td>Central Toronto</td>\n      <td>Davisville</td>\n      <td>43.7020</td>\n      <td>-79.3853</td>\n    </tr>\n    <tr>\n      <th>80</th>\n      <td>M5S</td>\n      <td>Downtown Toronto</td>\n      <td>University of Toronto,  Harbord</td>\n      <td>43.6629</td>\n      <td>-79.3987</td>\n    </tr>\n    <tr>\n      <th>81</th>\n      <td>M6S</td>\n      <td>West Toronto</td>\n      <td>Runnymede,  Swansea</td>\n      <td>43.6512</td>\n      <td>-79.4828</td>\n    </tr>\n    <tr>\n      <th>82</th>\n      <td>M1T</td>\n      <td>Scarborough</td>\n      <td>Clarks Corners,  Tam O'Shanter,  Sullivan</td>\n      <td>43.7812</td>\n      <td>-79.3036</td>\n    </tr>\n    <tr>\n      <th>83</th>\n      <td>M4T</td>\n      <td>Central Toronto</td>\n      <td>Moore Park,  Summerhill East</td>\n      <td>43.6899</td>\n      <td>-79.3853</td>\n    </tr>\n    <tr>\n      <th>84</th>\n      <td>M5T</td>\n      <td>Downtown Toronto</td>\n      <td>Kensington Market,  Chinatown,  Grange Park</td>\n      <td>43.6541</td>\n      <td>-79.3978</td>\n    </tr>\n    <tr>\n      <th>85</th>\n      <td>M1V</td>\n      <td>Scarborough</td>\n      <td>Milliken,  Agincourt North,  Steeles East,  L'...</td>\n      <td>43.8177</td>\n      <td>-79.2819</td>\n    </tr>\n    <tr>\n      <th>86</th>\n      <td>M4V</td>\n      <td>Central Toronto</td>\n      <td>Summerhill West,  Rathnelly,  South Hill,  For...</td>\n      <td>43.6861</td>\n      <td>-79.4025</td>\n    </tr>\n    <tr>\n      <th>87</th>\n      <td>M5V</td>\n      <td>Downtown Toronto</td>\n      <td>CN Tower,  King and Spadina,  Railway Lands,  ...</td>\n      <td>43.6404</td>\n      <td>-79.3995</td>\n    </tr>\n    <tr>\n      <th>88</th>\n      <td>M8V</td>\n      <td>Etobicoke</td>\n      <td>New Toronto,  Mimico South,  Humber Bay Shores</td>\n      <td>43.6075</td>\n      <td>-79.5013</td>\n    </tr>\n    <tr>\n      <th>89</th>\n      <td>M9V</td>\n      <td>Etobicoke</td>\n      <td>South Steeles,  Silverstone,  Humbergate,  Jam...</td>\n      <td>43.7432</td>\n      <td>-79.5876</td>\n    </tr>\n    <tr>\n      <th>90</th>\n      <td>M1W</td>\n      <td>Scarborough</td>\n      <td>Steeles West,  L'Amoreaux West</td>\n      <td>43.8016</td>\n      <td>-79.3216</td>\n    </tr>\n    <tr>\n      <th>91</th>\n      <td>M4W</td>\n      <td>Downtown Toronto</td>\n      <td>Rosedale</td>\n      <td>43.6827</td>\n      <td>-79.3730</td>\n    </tr>\n    <tr>\n      <th>92</th>\n      <td>M5W</td>\n      <td>Downtown Toronto Stn A</td>\n      <td>Enclave of M5E</td>\n      <td>43.6437</td>\n      <td>-79.3787</td>\n    </tr>\n    <tr>\n      <th>93</th>\n      <td>M8W</td>\n      <td>Etobicoke</td>\n      <td>Alderwood,  Long Branch</td>\n      <td>43.6021</td>\n      <td>-79.5402</td>\n    </tr>\n    <tr>\n      <th>94</th>\n      <td>M9W</td>\n      <td>Etobicoke Northwest</td>\n      <td>Clairville,  Humberwood,  Woodbine Downs,  Wes...</td>\n      <td>43.7144</td>\n      <td>-79.5909</td>\n    </tr>\n    <tr>\n      <th>95</th>\n      <td>M1X</td>\n      <td>Scarborough</td>\n      <td>Upper Rouge</td>\n      <td>43.8340</td>\n      <td>-79.2069</td>\n    </tr>\n    <tr>\n      <th>96</th>\n      <td>M4X</td>\n      <td>Downtown Toronto</td>\n      <td>St. James Town,  Cabbagetown</td>\n      <td>43.6684</td>\n      <td>-79.3689</td>\n    </tr>\n    <tr>\n      <th>97</th>\n      <td>M5X</td>\n      <td>Downtown Toronto</td>\n      <td>First Canadian Place,  Underground city</td>\n      <td>43.6492</td>\n      <td>-79.3823</td>\n    </tr>\n    <tr>\n      <th>98</th>\n      <td>M8X</td>\n      <td>Etobicoke</td>\n      <td>The Kingsway,  Montgomery Road,  Old Mill North</td>\n      <td>43.6518</td>\n      <td>-79.5076</td>\n    </tr>\n    <tr>\n      <th>99</th>\n      <td>M4Y</td>\n      <td>Downtown Toronto</td>\n      <td>Church and Wellesley</td>\n      <td>43.6656</td>\n      <td>-79.3830</td>\n    </tr>\n    <tr>\n      <th>100</th>\n      <td>M7Y</td>\n      <td>East Toronto Business</td>\n      <td>Enclave of M4L</td>\n      <td>43.7804</td>\n      <td>-79.2505</td>\n    </tr>\n    <tr>\n      <th>101</th>\n      <td>M8Y</td>\n      <td>Etobicoke</td>\n      <td>Old Mill South,  King's Mill Park,  Sunnylea, ...</td>\n      <td>43.6325</td>\n      <td>-79.4939</td>\n    </tr>\n    <tr>\n      <th>102</th>\n      <td>M8Z</td>\n      <td>Etobicoke</td>\n      <td>Mimico NW,  The Queensway West,  South of Bloo...</td>\n      <td>43.6256</td>\n      <td>-79.5231</td>\n    </tr>\n  </tbody>\n</table>\n</div>"
     },
     "metadata": {},
     "execution_count": 133
    }
   ],
   "source": [
    "new_toronto_df = pd.concat([toronto_df, coordinates], axis=1)\n",
    "new_toronto_df"
   ]
  },
  {
   "source": [
    "### Lastly in this step I'll be dropping the only row with a 'NaN' values. The coordinates are missing. 'Mississauga' is not a Borough of Toronto. It is a postal center location in the city of 'Mississauga' though the zip code belongs to Toronto My speculation is that this postal center probably serves the area of Toronto, but I'ts not a Borough.\n",
    "Next I'll reset the index, store it to the the variable 'new_toronto_df' and finally display the .head()"
   ],
   "cell_type": "markdown",
   "metadata": {}
  },
  {
   "cell_type": "code",
   "execution_count": 134,
   "metadata": {},
   "outputs": [
    {
     "output_type": "execute_result",
     "data": {
      "text/plain": [
       "  PostalCode           Borough                       Neighborhood  latitude  \\\n",
       "0        M3A        North York                          Parkwoods   43.7545   \n",
       "1        M4A        North York                   Victoria Village   43.7276   \n",
       "2        M5A  Downtown Toronto         Regent Park,  Harbourfront   43.6555   \n",
       "3        M6A        North York  Lawrence Manor,  Lawrence Heights   43.7223   \n",
       "4        M7A      Queen's Park      Ontario Provincial Government   43.6641   \n",
       "\n",
       "   longitude  \n",
       "0   -79.3300  \n",
       "1   -79.3148  \n",
       "2   -79.3626  \n",
       "3   -79.4504  \n",
       "4   -79.3889  "
      ],
      "text/html": "<div>\n<style scoped>\n    .dataframe tbody tr th:only-of-type {\n        vertical-align: middle;\n    }\n\n    .dataframe tbody tr th {\n        vertical-align: top;\n    }\n\n    .dataframe thead th {\n        text-align: right;\n    }\n</style>\n<table border=\"1\" class=\"dataframe\">\n  <thead>\n    <tr style=\"text-align: right;\">\n      <th></th>\n      <th>PostalCode</th>\n      <th>Borough</th>\n      <th>Neighborhood</th>\n      <th>latitude</th>\n      <th>longitude</th>\n    </tr>\n  </thead>\n  <tbody>\n    <tr>\n      <th>0</th>\n      <td>M3A</td>\n      <td>North York</td>\n      <td>Parkwoods</td>\n      <td>43.7545</td>\n      <td>-79.3300</td>\n    </tr>\n    <tr>\n      <th>1</th>\n      <td>M4A</td>\n      <td>North York</td>\n      <td>Victoria Village</td>\n      <td>43.7276</td>\n      <td>-79.3148</td>\n    </tr>\n    <tr>\n      <th>2</th>\n      <td>M5A</td>\n      <td>Downtown Toronto</td>\n      <td>Regent Park,  Harbourfront</td>\n      <td>43.6555</td>\n      <td>-79.3626</td>\n    </tr>\n    <tr>\n      <th>3</th>\n      <td>M6A</td>\n      <td>North York</td>\n      <td>Lawrence Manor,  Lawrence Heights</td>\n      <td>43.7223</td>\n      <td>-79.4504</td>\n    </tr>\n    <tr>\n      <th>4</th>\n      <td>M7A</td>\n      <td>Queen's Park</td>\n      <td>Ontario Provincial Government</td>\n      <td>43.6641</td>\n      <td>-79.3889</td>\n    </tr>\n  </tbody>\n</table>\n</div>"
     },
     "metadata": {},
     "execution_count": 134
    }
   ],
   "source": [
    "new_tronto_df = new_toronto_df.dropna().reset_index(drop=True)\n",
    "new_toronto_df.head()"
   ]
  }
 ]
}